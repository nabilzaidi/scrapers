{
 "cells": [
  {
   "cell_type": "code",
   "execution_count": 1,
   "metadata": {},
   "outputs": [],
   "source": [
    "import pandas as pd\n",
    "import glob\n",
    "import os\n",
    "from pprint import pprint"
   ]
  },
  {
   "cell_type": "code",
   "execution_count": 2,
   "metadata": {},
   "outputs": [],
   "source": [
    "DATA_FOLDER = \"../DATA/ANALYSIS\"\n",
    "def get_path(path):\n",
    "    return os.path.join(DATA_FOLDER, path)"
   ]
  },
  {
   "cell_type": "code",
   "execution_count": 3,
   "metadata": {},
   "outputs": [],
   "source": [
    "def avg_rating_month_data(df_reviews):\n",
    "    \"\"\"\n",
    "    Needs two columns: 'date_year_month_hide' and 'rating_star_cleaned_hide'\n",
    "    \"\"\"\n",
    "    df = df_reviews.copy()\n",
    "    df.date_year_month_hide = pd.to_datetime(df.date_year_month_hide)\n",
    "    df.sort_values(\"date_year_month_hide\", inplace=True)\n",
    "    df[\"sum_rating\"] =  df[\"rating_star_cleaned_hide\"].cumsum()\n",
    "    df[\"n_rating\"] =  1\n",
    "    df[\"n_rating\"] =  df[\"n_rating\"].cumsum()\n",
    "    df[\"avg_rating_uptodate\"] = df[\"sum_rating\"] / df[\"n_rating\"]\n",
    "    agg_func = {\n",
    "        \"avg_rating_uptodate\": \"last\",\n",
    "        \"rating_star_cleaned_hide\": \"mean\"\n",
    "    }\n",
    "    df_months = df.groupby([\"date_year_month_hide\"]).agg(agg_func).stack().reset_index()\n",
    "    df_rating_star = df_months[df_months.level_1 == \"rating_star_cleaned_hide\"].set_index(\n",
    "                            [\"date_year_month_hide\", \"level_1\"]\n",
    "                        ).unstack(\n",
    "                            fill_value=0\n",
    "                        ).asfreq(\n",
    "                            'MS', fill_value=0\n",
    "                        ).stack().sort_index(level=1).reset_index()\n",
    "\n",
    "    df_avg = df_months[df_months.level_1 == \"avg_rating_uptodate\"].set_index(\n",
    "                            [\"date_year_month_hide\", \"level_1\"]\n",
    "                        ).unstack(\n",
    "                            fill_value=0\n",
    "                        ).asfreq(\n",
    "                            'MS', method=\"ffill\"\n",
    "                        ).stack().sort_index(level=1).reset_index()\n",
    "    df_months = pd.concat([df_rating_star, df_avg])\n",
    "    return df_months\n",
    "\n",
    "def n_rating_month(df_reviews):\n",
    "    \"\"\"\n",
    "    Needs two columns: 'date_year_month_hide' and 'rating_star_cleaned_hide', 'text_cleaned_hide'\n",
    "    \"\"\"\n",
    "    df = df_reviews.copy()\n",
    "    df.date_year_month_hide = pd.to_datetime(df.date_year_month_hide)\n",
    "    df_n_rating = df.groupby(\n",
    "            [\"date_year_month_hide\", \"rating_star_cleaned_hide\"]\n",
    "        )[\"text_cleaned_hide\"].count().reset_index()\n",
    "    df_n_rating = df_n_rating.set_index(\n",
    "                                [\"date_year_month_hide\", \"rating_star_cleaned_hide\"]\n",
    "                            ).unstack(\n",
    "                                fill_value=0\n",
    "                            ).asfreq(\n",
    "                                'MS', fill_value=0\n",
    "                            ).stack().sort_index(level=1).reset_index()\n",
    "    return df_n_rating\n",
    "\n",
    "def write_dfs(dict_dfs, filename):\n",
    "\n",
    "    writer = pd.ExcelWriter(filename, engine='xlsxwriter')\n",
    "    for sheetname, data in dict_dfs.items():\n",
    "        data.to_excel(writer, sheet_name=sheetname)\n",
    "    writer.save()\n",
    "\n",
    "    print(f\"{filename} saved\")\n",
    "    \n",
    "    \n",
    "def get_analysis(df, filename=\"\"):\n",
    "    df_avg_rating = avg_rating_month_data(df)\n",
    "    df_n_rating = n_rating_month(df)\n",
    "\n",
    "    dict_dfs = {\n",
    "        \"Reviews\": df,\n",
    "        \"Average Rating\": df_avg_rating,\n",
    "        \"N Rating\": df_n_rating,\n",
    "    }\n",
    "    \n",
    "    if filename:\n",
    "        write_dfs(dict_dfs, filename)\n",
    "    \n",
    "    return dict_dfs"
   ]
  },
  {
   "cell_type": "code",
   "execution_count": 4,
   "metadata": {},
   "outputs": [],
   "source": [
    "filename = '../DATA/RAW/all_reviews.xlsx'\n",
    "df = pd.read_excel(filename, engine=\"openpyxl\", index_col=0)"
   ]
  },
  {
   "cell_type": "code",
   "execution_count": 5,
   "metadata": {},
   "outputs": [
    {
     "name": "stdout",
     "output_type": "stream",
     "text": [
      "../DATA/ANALYSIS/analysis_combined.xlsx saved\n"
     ]
    }
   ],
   "source": [
    "dfs = get_analysis(df)\n",
    "\n",
    "filename_save = get_path(f\"analysis_combined.xlsx\")\n",
    "write_dfs(dfs, filename_save)\n"
   ]
  },
  {
   "cell_type": "code",
   "execution_count": 6,
   "metadata": {},
   "outputs": [],
   "source": [
    "filename = '../DATA/ANALYSIS/all_reviews_all_companies_recent_translated.xlsx'\n",
    "df = pd.read_excel(filename, engine=\"openpyxl\", index_col=0)"
   ]
  },
  {
   "cell_type": "code",
   "execution_count": 8,
   "metadata": {},
   "outputs": [
    {
     "name": "stderr",
     "output_type": "stream",
     "text": [
      "/usr/local/lib/python3.9/site-packages/pandas/core/indexing.py:1765: SettingWithCopyWarning: \n",
      "A value is trying to be set on a copy of a slice from a DataFrame.\n",
      "Try using .loc[row_indexer,col_indexer] = value instead\n",
      "\n",
      "See the caveats in the documentation: https://pandas.pydata.org/pandas-docs/stable/user_guide/indexing.html#returning-a-view-versus-a-copy\n",
      "  isetter(loc, value)\n",
      "/usr/local/lib/python3.9/site-packages/pandas/core/indexing.py:1765: SettingWithCopyWarning: \n",
      "A value is trying to be set on a copy of a slice from a DataFrame.\n",
      "Try using .loc[row_indexer,col_indexer] = value instead\n",
      "\n",
      "See the caveats in the documentation: https://pandas.pydata.org/pandas-docs/stable/user_guide/indexing.html#returning-a-view-versus-a-copy\n",
      "  isetter(loc, value)\n",
      "/usr/local/lib/python3.9/site-packages/pandas/core/indexing.py:1765: SettingWithCopyWarning: \n",
      "A value is trying to be set on a copy of a slice from a DataFrame.\n",
      "Try using .loc[row_indexer,col_indexer] = value instead\n",
      "\n",
      "See the caveats in the documentation: https://pandas.pydata.org/pandas-docs/stable/user_guide/indexing.html#returning-a-view-versus-a-copy\n",
      "  isetter(loc, value)\n",
      "/usr/local/lib/python3.9/site-packages/pandas/core/indexing.py:1765: SettingWithCopyWarning: \n",
      "A value is trying to be set on a copy of a slice from a DataFrame.\n",
      "Try using .loc[row_indexer,col_indexer] = value instead\n",
      "\n",
      "See the caveats in the documentation: https://pandas.pydata.org/pandas-docs/stable/user_guide/indexing.html#returning-a-view-versus-a-copy\n",
      "  isetter(loc, value)\n",
      "/usr/local/lib/python3.9/site-packages/pandas/core/indexing.py:1765: SettingWithCopyWarning: \n",
      "A value is trying to be set on a copy of a slice from a DataFrame.\n",
      "Try using .loc[row_indexer,col_indexer] = value instead\n",
      "\n",
      "See the caveats in the documentation: https://pandas.pydata.org/pandas-docs/stable/user_guide/indexing.html#returning-a-view-versus-a-copy\n",
      "  isetter(loc, value)\n"
     ]
    },
    {
     "name": "stdout",
     "output_type": "stream",
     "text": [
      "../DATA/ANALYSIS/analysis_combined_recent.xlsx saved\n"
     ]
    }
   ],
   "source": [
    "all_dfs = dict()\n",
    "\n",
    "for company in df.company.unique():\n",
    "    dfs = get_analysis(df[df[\"company\"] == company])\n",
    "    for d in dfs.values():\n",
    "        d.loc[:, \"company\"] = company\n",
    "    for k,v in dfs.items():\n",
    "        all_dfs[k] = pd.concat([all_dfs.get(k, pd.DataFrame()), v])\n",
    "\n",
    "filename_save = get_path(f\"analysis_combined_recent.xlsx\")\n",
    "write_dfs(all_dfs, filename_save)\n",
    "\n"
   ]
  },
  {
   "cell_type": "code",
   "execution_count": 9,
   "metadata": {},
   "outputs": [
    {
     "name": "stderr",
     "output_type": "stream",
     "text": [
      "/usr/local/lib/python3.9/site-packages/pandas/core/indexing.py:1765: SettingWithCopyWarning: \n",
      "A value is trying to be set on a copy of a slice from a DataFrame.\n",
      "Try using .loc[row_indexer,col_indexer] = value instead\n",
      "\n",
      "See the caveats in the documentation: https://pandas.pydata.org/pandas-docs/stable/user_guide/indexing.html#returning-a-view-versus-a-copy\n",
      "  isetter(loc, value)\n",
      "/usr/local/lib/python3.9/site-packages/pandas/core/indexing.py:1765: SettingWithCopyWarning: \n",
      "A value is trying to be set on a copy of a slice from a DataFrame.\n",
      "Try using .loc[row_indexer,col_indexer] = value instead\n",
      "\n",
      "See the caveats in the documentation: https://pandas.pydata.org/pandas-docs/stable/user_guide/indexing.html#returning-a-view-versus-a-copy\n",
      "  isetter(loc, value)\n",
      "/usr/local/lib/python3.9/site-packages/pandas/core/indexing.py:1765: SettingWithCopyWarning: \n",
      "A value is trying to be set on a copy of a slice from a DataFrame.\n",
      "Try using .loc[row_indexer,col_indexer] = value instead\n",
      "\n",
      "See the caveats in the documentation: https://pandas.pydata.org/pandas-docs/stable/user_guide/indexing.html#returning-a-view-versus-a-copy\n",
      "  isetter(loc, value)\n",
      "/usr/local/lib/python3.9/site-packages/pandas/core/indexing.py:1765: SettingWithCopyWarning: \n",
      "A value is trying to be set on a copy of a slice from a DataFrame.\n",
      "Try using .loc[row_indexer,col_indexer] = value instead\n",
      "\n",
      "See the caveats in the documentation: https://pandas.pydata.org/pandas-docs/stable/user_guide/indexing.html#returning-a-view-versus-a-copy\n",
      "  isetter(loc, value)\n",
      "/usr/local/lib/python3.9/site-packages/pandas/core/indexing.py:1765: SettingWithCopyWarning: \n",
      "A value is trying to be set on a copy of a slice from a DataFrame.\n",
      "Try using .loc[row_indexer,col_indexer] = value instead\n",
      "\n",
      "See the caveats in the documentation: https://pandas.pydata.org/pandas-docs/stable/user_guide/indexing.html#returning-a-view-versus-a-copy\n",
      "  isetter(loc, value)\n"
     ]
    },
    {
     "name": "stdout",
     "output_type": "stream",
     "text": [
      "../DATA/ANALYSIS/analysis_combined_all_companies.xlsx saved\n"
     ]
    }
   ],
   "source": [
    "filename = '../DATA/RAW/all_reviews_all_companies.xlsx'\n",
    "df = pd.read_excel(filename, engine=\"openpyxl\", index_col=0)\n",
    "\n",
    "all_dfs = dict()\n",
    "\n",
    "for company in df.company.unique():\n",
    "    dfs = get_analysis(df[df[\"company\"] == company])\n",
    "    for d in dfs.values():\n",
    "        d.loc[:, \"company\"] = company\n",
    "    for k,v in dfs.items():\n",
    "        all_dfs[k] = pd.concat([all_dfs.get(k, pd.DataFrame()), v])\n",
    "\n",
    "filename_save = get_path(f\"analysis_combined_all_companies.xlsx\")\n",
    "write_dfs(all_dfs, filename_save)"
   ]
  },
  {
   "cell_type": "code",
   "execution_count": null,
   "metadata": {},
   "outputs": [],
   "source": []
  }
 ],
 "metadata": {
  "kernelspec": {
   "display_name": "Python 3",
   "language": "python",
   "name": "python3"
  },
  "language_info": {
   "codemirror_mode": {
    "name": "ipython",
    "version": 3
   },
   "file_extension": ".py",
   "mimetype": "text/x-python",
   "name": "python",
   "nbconvert_exporter": "python",
   "pygments_lexer": "ipython3",
   "version": "3.9.0"
  }
 },
 "nbformat": 4,
 "nbformat_minor": 4
}
