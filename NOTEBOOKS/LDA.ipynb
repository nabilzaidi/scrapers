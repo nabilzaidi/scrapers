{
 "cells": [
  {
   "cell_type": "code",
   "execution_count": 38,
   "metadata": {},
   "outputs": [
    {
     "name": "stderr",
     "output_type": "stream",
     "text": [
      "/usr/local/lib/python3.9/site-packages/ipykernel/ipkernel.py:283: DeprecationWarning: `should_run_async` will not call `transform_cell` automatically in the future. Please pass the result to `transformed_cell` argument and any exception that happen during thetransform in `preprocessing_exc_tuple` in IPython 7.17 and above.\n",
      "  and should_run_async(code)\n"
     ]
    }
   ],
   "source": [
    "import nltk\n",
    "from nltk import FreqDist"
   ]
  },
  {
   "cell_type": "code",
   "execution_count": 39,
   "metadata": {},
   "outputs": [
    {
     "name": "stderr",
     "output_type": "stream",
     "text": [
      "/usr/local/lib/python3.9/site-packages/ipykernel/ipkernel.py:283: DeprecationWarning: `should_run_async` will not call `transform_cell` automatically in the future. Please pass the result to `transformed_cell` argument and any exception that happen during thetransform in `preprocessing_exc_tuple` in IPython 7.17 and above.\n",
      "  and should_run_async(code)\n"
     ]
    }
   ],
   "source": [
    "import pandas as pd\n",
    "pd.set_option(\"display.max_colwidth\", 200)\n",
    "import numpy as np\n",
    "import re\n",
    "import spacy\n",
    "\n",
    "import gensim\n",
    "from gensim import corpora\n",
    "\n",
    "# libraries for visualization\n",
    "import pyLDAvis\n",
    "import pyLDAvis.gensim\n",
    "import matplotlib.pyplot as plt\n",
    "import seaborn as sns\n",
    "%matplotlib inline\n",
    "\n",
    "from unidecode import unidecode"
   ]
  },
  {
   "cell_type": "code",
   "execution_count": 40,
   "metadata": {},
   "outputs": [
    {
     "name": "stderr",
     "output_type": "stream",
     "text": [
      "/usr/local/lib/python3.9/site-packages/ipykernel/ipkernel.py:283: DeprecationWarning: `should_run_async` will not call `transform_cell` automatically in the future. Please pass the result to `transformed_cell` argument and any exception that happen during thetransform in `preprocessing_exc_tuple` in IPython 7.17 and above.\n",
      "  and should_run_async(code)\n"
     ]
    }
   ],
   "source": [
    "from nltk.corpus import stopwords\n",
    "stop_words = stopwords.words('english')"
   ]
  },
  {
   "cell_type": "code",
   "execution_count": 41,
   "metadata": {},
   "outputs": [
    {
     "name": "stderr",
     "output_type": "stream",
     "text": [
      "/usr/local/lib/python3.9/site-packages/ipykernel/ipkernel.py:283: DeprecationWarning: `should_run_async` will not call `transform_cell` automatically in the future. Please pass the result to `transformed_cell` argument and any exception that happen during thetransform in `preprocessing_exc_tuple` in IPython 7.17 and above.\n",
      "  and should_run_async(code)\n"
     ]
    },
    {
     "data": {
      "text/html": [
       "<div>\n",
       "<style scoped>\n",
       "    .dataframe tbody tr th:only-of-type {\n",
       "        vertical-align: middle;\n",
       "    }\n",
       "\n",
       "    .dataframe tbody tr th {\n",
       "        vertical-align: top;\n",
       "    }\n",
       "\n",
       "    .dataframe thead th {\n",
       "        text-align: right;\n",
       "    }\n",
       "</style>\n",
       "<table border=\"1\" class=\"dataframe\">\n",
       "  <thead>\n",
       "    <tr style=\"text-align: right;\">\n",
       "      <th></th>\n",
       "      <th>company</th>\n",
       "      <th>review_id</th>\n",
       "      <th>rating_star</th>\n",
       "      <th>date</th>\n",
       "      <th>title</th>\n",
       "      <th>review</th>\n",
       "      <th>customer_location</th>\n",
       "      <th>n_reviews_customer_hide</th>\n",
       "      <th>is_verified</th>\n",
       "      <th>verification_source_hide</th>\n",
       "      <th>review_source_hide</th>\n",
       "      <th>verification_level_hide</th>\n",
       "      <th>reply_content_hide</th>\n",
       "      <th>rating_star_cleaned_hide</th>\n",
       "      <th>n_reviews_customer_cleaned_hide</th>\n",
       "      <th>date_year_month_hide</th>\n",
       "      <th>text_cleaned_hide</th>\n",
       "      <th>page</th>\n",
       "      <th>text_cleaned_hide_EN</th>\n",
       "    </tr>\n",
       "  </thead>\n",
       "  <tbody>\n",
       "    <tr>\n",
       "      <th>0</th>\n",
       "      <td>Lauritz.com</td>\n",
       "      <td>6062edd1f85d7508703d58f0</td>\n",
       "      <td>1 étoile : mauvais</td>\n",
       "      <td>2021-03-30T09:22:25+00:00</td>\n",
       "      <td>Håbløst og ulovligt !</td>\n",
       "      <td>Håbløst !\\nSender dem en mail om fortrydelse og får intet svar. Må rykke i en uge. Køber et teak bord som viser sig at være palisander og nogle palisander skabe som stinker af røg!\\nFordi jeg samt...</td>\n",
       "      <td>DK</td>\n",
       "      <td>26 avis</td>\n",
       "      <td>False</td>\n",
       "      <td></td>\n",
       "      <td></td>\n",
       "      <td></td>\n",
       "      <td></td>\n",
       "      <td>1</td>\n",
       "      <td>2</td>\n",
       "      <td>2021-03</td>\n",
       "      <td>håbløst og ulovligt ! håbløst !\\nsender dem en mail om fortrydelse og får intet svar. må rykke i en uge. køber et teak bord som viser sig at være palisander og nogle palisander skabe som stinker a...</td>\n",
       "      <td>1</td>\n",
       "      <td>hopelessly and illegal! hopeless !\\nSends them an email on regret and get no answer. May jerk for a week. Buyer a teak table that turns out to be rosewood and some rosewood cabinets like stinks of...</td>\n",
       "    </tr>\n",
       "    <tr>\n",
       "      <th>1</th>\n",
       "      <td>Lauritz.com</td>\n",
       "      <td>606218d2f85d7508703c5d8c</td>\n",
       "      <td>5 étoiles : excellent</td>\n",
       "      <td>2021-03-29T18:13:38+00:00</td>\n",
       "      <td>er fuldstændig styr på det hele</td>\n",
       "      <td></td>\n",
       "      <td>DK</td>\n",
       "      <td>18 avis</td>\n",
       "      <td>False</td>\n",
       "      <td></td>\n",
       "      <td></td>\n",
       "      <td></td>\n",
       "      <td></td>\n",
       "      <td>5</td>\n",
       "      <td>1</td>\n",
       "      <td>2021-03</td>\n",
       "      <td>er fuldstændig styr på det hele</td>\n",
       "      <td>1</td>\n",
       "      <td>is complete track of it all</td>\n",
       "    </tr>\n",
       "    <tr>\n",
       "      <th>2</th>\n",
       "      <td>Lauritz.com</td>\n",
       "      <td>60616a7ff85d7508703acce2</td>\n",
       "      <td>3 étoiles : moyen</td>\n",
       "      <td>2021-03-29T05:49:51+00:00</td>\n",
       "      <td>Lauritz .com har et gevaldigt problem…</td>\n",
       "      <td>Lauritz .com har et gevaldigt problem med transportøren. Det er ALT for dyrt og ALT for langsomt!\\nHvorfor skal jeg vente en uge på lev. fra Århus til jeres afdeling i Herlev og betale mere end 38...</td>\n",
       "      <td>DK</td>\n",
       "      <td>10 avis</td>\n",
       "      <td>False</td>\n",
       "      <td></td>\n",
       "      <td></td>\n",
       "      <td></td>\n",
       "      <td></td>\n",
       "      <td>3</td>\n",
       "      <td>1</td>\n",
       "      <td>2021-03</td>\n",
       "      <td>lauritz .com har et gevaldigt problem… lauritz .com har et gevaldigt problem med transportøren. det er alt for dyrt og alt for langsomt!\\nhvorfor skal jeg vente en uge på lev. fra århus til jeres ...</td>\n",
       "      <td>1</td>\n",
       "      <td>Lauritz .com has a tremendous problem ... Lauritz .com has a tremendous problem with the carrier. It's too expensive and too slow!\\nWhy should I wait a week in Lev. From Aarhus to your department ...</td>\n",
       "    </tr>\n",
       "    <tr>\n",
       "      <th>3</th>\n",
       "      <td>Lauritz.com</td>\n",
       "      <td>605cdf6af85d750870350ea5</td>\n",
       "      <td>1 étoile : mauvais</td>\n",
       "      <td>2021-03-25T19:07:22+00:00</td>\n",
       "      <td>Jeg har købt en vare via jeres auktion</td>\n",
       "      <td>Jeg har købt en vare via jeres auktion, og min oplevelse med jeres kundeservice i den forbindelse lader mildt sagt en hel del tilbage at ønske – ja, jeg vil endda sige at servicen var under al kri...</td>\n",
       "      <td>DK</td>\n",
       "      <td>1 avis</td>\n",
       "      <td>False</td>\n",
       "      <td></td>\n",
       "      <td></td>\n",
       "      <td></td>\n",
       "      <td></td>\n",
       "      <td>1</td>\n",
       "      <td>1</td>\n",
       "      <td>2021-03</td>\n",
       "      <td>jeg har købt en vare via jeres auktion jeg har købt en vare via jeres auktion, og min oplevelse med jeres kundeservice i den forbindelse lader mildt sagt en hel del tilbage at ønske – ja, jeg vil ...</td>\n",
       "      <td>1</td>\n",
       "      <td>I bought an item through your auction I have bought an item through your auction, and my experience with your customer service in this connection lets mildly said a great deal to want - yes, I wou...</td>\n",
       "    </tr>\n",
       "    <tr>\n",
       "      <th>4</th>\n",
       "      <td>Lauritz.com</td>\n",
       "      <td>605bb816f85d750870332126</td>\n",
       "      <td>5 étoiles : excellent</td>\n",
       "      <td>2021-03-24T22:07:18+00:00</td>\n",
       "      <td>Det positive først</td>\n",
       "      <td>Det positive først. 2 gange indenfor relativ kort tid har jeg solgt 2 genstande på Lauritz.com, Aarhus. Begge gange med hammerslag over vurderingen, og \\nvel at mærke begge gange med en værdi over...</td>\n",
       "      <td>DK</td>\n",
       "      <td>1 avis</td>\n",
       "      <td>False</td>\n",
       "      <td></td>\n",
       "      <td></td>\n",
       "      <td></td>\n",
       "      <td>Kære Per Jensen.\\nTusind tak for den gode anmeldelse, og fordi du tager dig tid til at skrive den. Det betyder meget for os.\\nDu har ret i, at fragtpriser kan være en barriere for at handle i vore...</td>\n",
       "      <td>5</td>\n",
       "      <td>1</td>\n",
       "      <td>2021-03</td>\n",
       "      <td>det positive først det positive først. 2 gange indenfor relativ kort tid har jeg solgt 2 genstande på lauritz.com, aarhus. begge gange med hammerslag over vurderingen, og \\nvel at mærke begge gang...</td>\n",
       "      <td>1</td>\n",
       "      <td>It first positively the positive first. 2 times within relatively short time I have sold 2 objects on Lauritz.com, Aarhus. both times with hammer layer over the assessment, and\\nTo mark both times...</td>\n",
       "    </tr>\n",
       "  </tbody>\n",
       "</table>\n",
       "</div>"
      ],
      "text/plain": [
       "       company                 review_id            rating_star  \\\n",
       "0  Lauritz.com  6062edd1f85d7508703d58f0     1 étoile : mauvais   \n",
       "1  Lauritz.com  606218d2f85d7508703c5d8c  5 étoiles : excellent   \n",
       "2  Lauritz.com  60616a7ff85d7508703acce2      3 étoiles : moyen   \n",
       "3  Lauritz.com  605cdf6af85d750870350ea5     1 étoile : mauvais   \n",
       "4  Lauritz.com  605bb816f85d750870332126  5 étoiles : excellent   \n",
       "\n",
       "                        date                                   title  \\\n",
       "0  2021-03-30T09:22:25+00:00                   Håbløst og ulovligt !   \n",
       "1  2021-03-29T18:13:38+00:00         er fuldstændig styr på det hele   \n",
       "2  2021-03-29T05:49:51+00:00  Lauritz .com har et gevaldigt problem…   \n",
       "3  2021-03-25T19:07:22+00:00  Jeg har købt en vare via jeres auktion   \n",
       "4  2021-03-24T22:07:18+00:00                      Det positive først   \n",
       "\n",
       "                                                                                                                                                                                                    review  \\\n",
       "0  Håbløst !\\nSender dem en mail om fortrydelse og får intet svar. Må rykke i en uge. Køber et teak bord som viser sig at være palisander og nogle palisander skabe som stinker af røg!\\nFordi jeg samt...   \n",
       "1                                                                                                                                                                                                            \n",
       "2  Lauritz .com har et gevaldigt problem med transportøren. Det er ALT for dyrt og ALT for langsomt!\\nHvorfor skal jeg vente en uge på lev. fra Århus til jeres afdeling i Herlev og betale mere end 38...   \n",
       "3  Jeg har købt en vare via jeres auktion, og min oplevelse med jeres kundeservice i den forbindelse lader mildt sagt en hel del tilbage at ønske – ja, jeg vil endda sige at servicen var under al kri...   \n",
       "4  Det positive først. 2 gange indenfor relativ kort tid har jeg solgt 2 genstande på Lauritz.com, Aarhus. Begge gange med hammerslag over vurderingen, og \\nvel at mærke begge gange med en værdi over...   \n",
       "\n",
       "  customer_location n_reviews_customer_hide  is_verified  \\\n",
       "0                DK                 26 avis        False   \n",
       "1                DK                 18 avis        False   \n",
       "2                DK                 10 avis        False   \n",
       "3                DK                  1 avis        False   \n",
       "4                DK                  1 avis        False   \n",
       "\n",
       "  verification_source_hide review_source_hide verification_level_hide  \\\n",
       "0                                                                       \n",
       "1                                                                       \n",
       "2                                                                       \n",
       "3                                                                       \n",
       "4                                                                       \n",
       "\n",
       "                                                                                                                                                                                        reply_content_hide  \\\n",
       "0                                                                                                                                                                                                            \n",
       "1                                                                                                                                                                                                            \n",
       "2                                                                                                                                                                                                            \n",
       "3                                                                                                                                                                                                            \n",
       "4  Kære Per Jensen.\\nTusind tak for den gode anmeldelse, og fordi du tager dig tid til at skrive den. Det betyder meget for os.\\nDu har ret i, at fragtpriser kan være en barriere for at handle i vore...   \n",
       "\n",
       "   rating_star_cleaned_hide  n_reviews_customer_cleaned_hide  \\\n",
       "0                         1                                2   \n",
       "1                         5                                1   \n",
       "2                         3                                1   \n",
       "3                         1                                1   \n",
       "4                         5                                1   \n",
       "\n",
       "  date_year_month_hide  \\\n",
       "0              2021-03   \n",
       "1              2021-03   \n",
       "2              2021-03   \n",
       "3              2021-03   \n",
       "4              2021-03   \n",
       "\n",
       "                                                                                                                                                                                         text_cleaned_hide  \\\n",
       "0  håbløst og ulovligt ! håbløst !\\nsender dem en mail om fortrydelse og får intet svar. må rykke i en uge. køber et teak bord som viser sig at være palisander og nogle palisander skabe som stinker a...   \n",
       "1                                                                                                                                                                         er fuldstændig styr på det hele    \n",
       "2  lauritz .com har et gevaldigt problem… lauritz .com har et gevaldigt problem med transportøren. det er alt for dyrt og alt for langsomt!\\nhvorfor skal jeg vente en uge på lev. fra århus til jeres ...   \n",
       "3  jeg har købt en vare via jeres auktion jeg har købt en vare via jeres auktion, og min oplevelse med jeres kundeservice i den forbindelse lader mildt sagt en hel del tilbage at ønske – ja, jeg vil ...   \n",
       "4  det positive først det positive først. 2 gange indenfor relativ kort tid har jeg solgt 2 genstande på lauritz.com, aarhus. begge gange med hammerslag over vurderingen, og \\nvel at mærke begge gang...   \n",
       "\n",
       "   page  \\\n",
       "0     1   \n",
       "1     1   \n",
       "2     1   \n",
       "3     1   \n",
       "4     1   \n",
       "\n",
       "                                                                                                                                                                                      text_cleaned_hide_EN  \n",
       "0  hopelessly and illegal! hopeless !\\nSends them an email on regret and get no answer. May jerk for a week. Buyer a teak table that turns out to be rosewood and some rosewood cabinets like stinks of...  \n",
       "1                                                                                                                                                                              is complete track of it all  \n",
       "2  Lauritz .com has a tremendous problem ... Lauritz .com has a tremendous problem with the carrier. It's too expensive and too slow!\\nWhy should I wait a week in Lev. From Aarhus to your department ...  \n",
       "3  I bought an item through your auction I have bought an item through your auction, and my experience with your customer service in this connection lets mildly said a great deal to want - yes, I wou...  \n",
       "4  It first positively the positive first. 2 times within relatively short time I have sold 2 objects on Lauritz.com, Aarhus. both times with hammer layer over the assessment, and\\nTo mark both times...  "
      ]
     },
     "execution_count": 41,
     "metadata": {},
     "output_type": "execute_result"
    }
   ],
   "source": [
    "filename = \"../DATA/ANALYSIS/all_reviews_all_companies_translated.xlsx\"\n",
    "\n",
    "df = pd.read_excel(filename, index_col=0, engine=\"openpyxl\").fillna(\"\")\n",
    "df.head()"
   ]
  },
  {
   "cell_type": "code",
   "execution_count": 53,
   "metadata": {},
   "outputs": [
    {
     "name": "stderr",
     "output_type": "stream",
     "text": [
      "/usr/local/lib/python3.9/site-packages/ipykernel/ipkernel.py:283: DeprecationWarning: `should_run_async` will not call `transform_cell` automatically in the future. Please pass the result to `transformed_cell` argument and any exception that happen during thetransform in `preprocessing_exc_tuple` in IPython 7.17 and above.\n",
      "  and should_run_async(code)\n"
     ]
    }
   ],
   "source": [
    "# function to remove stopwords\n",
    "stop_words = [unidecode(w.lower()) for w in stop_words]\n",
    "def remove_stopwords(rev):\n",
    "    rev_new = \" \".join([i for i in rev.lower().split() if i not in stop_words and len(i)>3])\n",
    "    return rev_new\n",
    "\n",
    "df[\"reviews_cleaned\"] = df['text_cleaned_hide_EN'].copy()\n",
    "\n",
    "# clean reviews\n",
    "df[\"reviews_cleaned\"] = df['reviews_cleaned'].apply(lambda x: \" \" + ' '.join([unidecode(w.lower()) for w in x.split()]))\n",
    "\n",
    "words_toremove = [\"lauritzcom\",\"lauritz\", \"dba\", \"tradera\", \"block\", \n",
    "                  \"auction\", \"good\"]\n",
    "\n",
    "for word in words_toremove:\n",
    "    df[\"reviews_cleaned\"] = df[\"reviews_cleaned\"].apply(lambda x: re.sub(f\"{word}\", \" \", x))\n",
    "\n",
    "# remove stopwords from the text\n",
    "df[\"reviews_cleaned\"] = df[\"reviews_cleaned\"].apply(remove_stopwords)\n",
    "# reviews = [remove_stopwords(r.split()) for r in df['review_all']]\n",
    "\n",
    "df[\"reviews_cleaned\"] = df[\"reviews_cleaned\"].apply(lambda x: re.sub(r\"[^a-z\\s]\", \"\", x))\n",
    "\n",
    "# # make entire text lowercase\n",
    "# reviews = \" \".join([r.lower() for r in reviews])\n",
    "\n",
    "df[\"reviews_cleaned\"] = df[\"reviews_cleaned\"].apply(lambda x: re.sub(r\"\\s+\", \" \", x))"
   ]
  },
  {
   "cell_type": "code",
   "execution_count": 44,
   "metadata": {},
   "outputs": [
    {
     "name": "stderr",
     "output_type": "stream",
     "text": [
      "/usr/local/lib/python3.9/site-packages/ipykernel/ipkernel.py:283: DeprecationWarning: `should_run_async` will not call `transform_cell` automatically in the future. Please pass the result to `transformed_cell` argument and any exception that happen during thetransform in `preprocessing_exc_tuple` in IPython 7.17 and above.\n",
      "  and should_run_async(code)\n"
     ]
    },
    {
     "data": {
      "image/png": "[encoded data removed]",
      "text/plain": [
       "<Figure size 1440x360 with 1 Axes>"
      ]
     },
     "metadata": {
      "needs_background": "light"
     },
     "output_type": "display_data"
    }
   ],
   "source": [
    "# function to plot most frequent terms\n",
    "def freq_words(x, terms = 30):\n",
    "    all_words = ' '.join([text for text in x])\n",
    "    all_words = all_words.split()\n",
    "\n",
    "    fdist = FreqDist(all_words)\n",
    "    words_df = pd.DataFrame({'word':list(fdist.keys()), 'count':list(fdist.values())})\n",
    "\n",
    "    # selecting top 20 most frequent words\n",
    "    d = words_df.nlargest(columns=\"count\", n = terms) \n",
    "    plt.figure(figsize=(20,5))\n",
    "    ax = sns.barplot(data=d, x= \"word\", y = \"count\")\n",
    "    ax.set(ylabel = 'Count')\n",
    "    plt.show()\n",
    "\n",
    "\n",
    "freq_words(df[\"reviews_cleaned\"], 35)"
   ]
  },
  {
   "cell_type": "code",
   "execution_count": 45,
   "metadata": {},
   "outputs": [
    {
     "name": "stderr",
     "output_type": "stream",
     "text": [
      "/usr/local/lib/python3.9/site-packages/ipykernel/ipkernel.py:283: DeprecationWarning: `should_run_async` will not call `transform_cell` automatically in the future. Please pass the result to `transformed_cell` argument and any exception that happen during thetransform in `preprocessing_exc_tuple` in IPython 7.17 and above.\n",
      "  and should_run_async(code)\n"
     ]
    }
   ],
   "source": [
    "nlp = spacy.load('en_core_web_sm')#, disable=['parser', 'ner'])\n",
    "# nlp = spacy.load('fr', disable=['parser', 'ner'])\n",
    "\n",
    "def lemmatization(texts, tags=['NOUN', 'VERB', \"PROPN\"]): # filter noun etc.\n",
    "    output = []\n",
    "    for sent in texts:\n",
    "        doc = nlp(\" \".join(sent)) \n",
    "        output.append([token.lemma_ for token in doc if token.pos_ in tags])\n",
    "    return output"
   ]
  },
  {
   "cell_type": "code",
   "execution_count": 46,
   "metadata": {},
   "outputs": [
    {
     "name": "stderr",
     "output_type": "stream",
     "text": [
      "/usr/local/lib/python3.9/site-packages/ipykernel/ipkernel.py:283: DeprecationWarning: `should_run_async` will not call `transform_cell` automatically in the future. Please pass the result to `transformed_cell` argument and any exception that happen during thetransform in `preprocessing_exc_tuple` in IPython 7.17 and above.\n",
      "  and should_run_async(code)\n"
     ]
    }
   ],
   "source": [
    "def lemmatize_reviews(df):\n",
    "    reviews = list(df[\"reviews_cleaned\"])\n",
    "\n",
    "    tokenized_reviews = pd.Series(reviews).apply(lambda x: x.split())\n",
    "#     print(tokenized_reviews[1])\n",
    "\n",
    "    lem_reviews = lemmatization(tokenized_reviews)\n",
    "#     print(reviews_2[1]) # print lemmatized review\n",
    "    \n",
    "    return lem_reviews"
   ]
  },
  {
   "cell_type": "code",
   "execution_count": 54,
   "metadata": {},
   "outputs": [
    {
     "name": "stderr",
     "output_type": "stream",
     "text": [
      "/usr/local/lib/python3.9/site-packages/ipykernel/ipkernel.py:283: DeprecationWarning: `should_run_async` will not call `transform_cell` automatically in the future. Please pass the result to `transformed_cell` argument and any exception that happen during thetransform in `preprocessing_exc_tuple` in IPython 7.17 and above.\n",
      "  and should_run_async(code)\n"
     ]
    }
   ],
   "source": [
    "def get_model(lem_reviews):\n",
    "    dictionary = corpora.Dictionary(lem_reviews)\n",
    "\n",
    "    doc_term_matrix = [dictionary.doc2bow(rev) for rev in lem_reviews]\n",
    "\n",
    "    # Creating the object for LDA model using gensim library\n",
    "    LDA = gensim.models.ldamodel.LdaModel\n",
    "\n",
    "    # Build LDA model\n",
    "    lda_model = LDA(corpus=doc_term_matrix, id2word=dictionary, num_topics=15, random_state=100,\n",
    "                    chunksize=1000, passes=50)\n",
    "    \n",
    "    return lda_model, doc_term_matrix, dictionary"
   ]
  },
  {
   "cell_type": "code",
   "execution_count": 55,
   "metadata": {},
   "outputs": [
    {
     "name": "stderr",
     "output_type": "stream",
     "text": [
      "/usr/local/lib/python3.9/site-packages/ipykernel/ipkernel.py:283: DeprecationWarning: `should_run_async` will not call `transform_cell` automatically in the future. Please pass the result to `transformed_cell` argument and any exception that happen during thetransform in `preprocessing_exc_tuple` in IPython 7.17 and above.\n",
      "  and should_run_async(code)\n"
     ]
    }
   ],
   "source": [
    "def create_model(df):\n",
    "    lem_reviews = lemmatize_reviews(df)\n",
    "    return get_model(lem_reviews)"
   ]
  },
  {
   "cell_type": "code",
   "execution_count": 56,
   "metadata": {},
   "outputs": [
    {
     "name": "stderr",
     "output_type": "stream",
     "text": [
      "/usr/local/lib/python3.9/site-packages/ipykernel/ipkernel.py:283: DeprecationWarning: `should_run_async` will not call `transform_cell` automatically in the future. Please pass the result to `transformed_cell` argument and any exception that happen during thetransform in `preprocessing_exc_tuple` in IPython 7.17 and above.\n",
      "  and should_run_async(code)\n"
     ]
    }
   ],
   "source": [
    "def show_model(df):\n",
    "    lda_model, doc_term_matrix, dictionary = create_model(df)\n",
    "\n",
    "    lda_model.print_topics()\n",
    "\n",
    "    # Visualize the topics\n",
    "    pyLDAvis.enable_notebook()\n",
    "    vis = pyLDAvis.gensim.prepare(lda_model, doc_term_matrix, dictionary)\n",
    "    return vis"
   ]
  },
  {
   "cell_type": "code",
   "execution_count": 50,
   "metadata": {},
   "outputs": [
    {
     "name": "stderr",
     "output_type": "stream",
     "text": [
      "/usr/local/lib/python3.9/site-packages/ipykernel/ipkernel.py:283: DeprecationWarning: `should_run_async` will not call `transform_cell` automatically in the future. Please pass the result to `transformed_cell` argument and any exception that happen during thetransform in `preprocessing_exc_tuple` in IPython 7.17 and above.\n",
      "  and should_run_async(code)\n"
     ]
    },
    {
     "data": {
      "text/html": [
       "\n",
       "<link rel=\"stylesheet\" type=\"text/css\" href=\"https://cdn.rawgit.com/bmabey/pyLDAvis/files/ldavis.v1.0.0.css\">\n",
       "\n",
       "\n",
       "<div id=\"ldavis_el1466052922497124300272552\"></div>\n",
       "<script type=\"text/javascript\">\n",
       "\n",
       "var ldavis_el1466052922497124300272552_data = {\"mdsDat\": {\"x\": [-0.008504254936560447, -0.16781770291078124, -0.25762745646193097, 0.06883135571266873, 0.18448602468767364, 0.18063203390893004], \"y\": [0.13381138464388706, -0.029297152447838423, -0.043995558717422334, 0.04359417555572491, 0.17965556406669494, -0.2837684131010461], \"topics\": [1, 2, 3, 4, 5, 6], \"cluster\": [1, 1, 1, 1, 1, 1], \"Freq\": [28.522132322007238, 22.420381525637236, 20.958111846865872, 11.976927493444927, 9.134851946135036, 6.9875948659096885]}, \"tinfo\": {\"Term\": [\"sell\", \"service\", \"customer\", \"price\", \"page\", \"experience\", \"side\", \"thing\", \"item\", \"find\", \"work\", \"sale\", \"answer\", \"com\", \"search\", \"support\", \"use\", \"site\", \"problem\", \"trade\", \"website\", \"advertising\", \"become\", \"advertisement\", \"approve\", \"buyer\", \"contact\", \"assessment\", \"place\", \"help\", \"trading\", \"stuff\", \"ebay\", \"bank\", \"yellow\", \"security\", \"judgment\", \"platform\", \"paypal\", \"love\", \"app\", \"throw\", \"gadget\", \"member\", \"bargain\", \"video\", \"trader\", \"child\", \"validate\", \"couple\", \"free\", \"violate\", \"klarna\", \"validation\", \"seat\", \"bump\", \"shit\", \"praise\", \"protection\", \"clothe\", \"car\", \"thing\", \"buyer\", \"cheat\", \"payment\", \"sell\", \"place\", \"seller\", \"people\", \"year\", \"want\", \"use\", \"system\", \"user\", \"trade\", \"make\", \"money\", \"work\", \"cost\", \"buy\", \"think\", \"need\", \"would\", \"become\", \"find\", \"time\", \"take\", \"pay\", \"must\", \"sale\", \"page\", \"pick\", \"transport\", \"kr\", \"table\", \"deny\", \"chair\", \"department\", \"delivery\", \"deliver\", \"lamp\", \"herlev\", \"regret\", \"sofa\", \"damage\", \"animal\", \"disaster\", \"request\", \"compensation\", \"painting\", \"advance\", \"collection\", \"right\", \"bill\", \"withdrawal\", \"shipment\", \"odense\", \"office\", \"germany\", \"sword\", \"evening\", \"com\", \"describe\", \"promise\", \"condition\", \"return\", \"purchase\", \"hammer\", \"item\", \"tell\", \"day\", \"package\", \"week\", \"send\", \"company\", \"invoice\", \"receive\", \"call\", \"house\", \"money\", \"would\", \"pay\", \"buy\", \"must\", \"picture\", \"take\", \"time\", \"could\", \"cost\", \"go\", \"know\", \"make\", \"experience\", \"service\", \"support\", \"response\", \"message\", \"question\", \"address\", \"super\", \"profile\", \"name\", \"chat\", \"login\", \"monopoly\", \"solve\", \"issue\", \"spam\", \"refund\", \"credit\", \"nice\", \"label\", \"cash\", \"renew\", \"log\", \"telephone\", \"fall\", \"fast\", \"register\", \"bring\", \"cut\", \"encounter\", \"idiot\", \"customer\", \"touch\", \"answer\", \"contact\", \"help\", \"phone\", \"respond\", \"write\", \"email\", \"mail\", \"delete\", \"number\", \"rule\", \"explain\", \"thank\", \"error\", \"problem\", \"account\", \"can\", \"call\", \"case\", \"come\", \"time\", \"send\", \"money\", \"receive\", \"company\", \"give\", \"take\", \"etse\", \"desire\", \"occasion\", \"relation\", \"determine\", \"group\", \"tip\", \"position\", \"half\", \"match\", \"rent\", \"expectation\", \"interface\", \"passport\", \"gold\", \"age\", \"edition\", \"meeting\", \"freedom\", \"invite\", \"session\", \"kab\", \"creation\", \"byte\", \"estimate\", \"exchange\", \"apple\", \"professional\", \"bite\", \"travel\", \"price\", \"piece\", \"assessment\", \"site\", \"furniture\", \"value\", \"none\", \"market\", \"sale\", \"work\", \"sell\", \"bid\", \"start\", \"fee\", \"product\", \"offer\", \"think\", \"item\", \"feel\", \"result\", \"time\", \"seller\", \"picture\", \"thing\", \"buyer\", \"case\", \"give\", \"make\", \"experience\", \"purchase\", \"come\", \"use\", \"search\", \"advertising\", \"approve\", \"newspaper\", \"design\", \"entrepreneur\", \"choice\", \"competition\", \"individual\", \"forum\", \"housing\", \"satisfy\", \"seek\", \"compete\", \"edit\", \"cause\", \"apartment\", \"lower\", \"blue\", \"center\", \"wellfunctione\", \"scroll\", \"carburetor\", \"nozzles\", \"caravan\", \"bound\", \"development\", \"clear\", \"utilize\", \"examine\", \"side\", \"page\", \"function\", \"website\", \"advertisement\", \"click\", \"ad\", \"find\", \"create\", \"become\", \"concept\", \"advertise\", \"use\", \"update\", \"look\", \"mobile\", \"sale\", \"change\", \"work\", \"picture\", \"text\", \"thing\", \"must\", \"make\", \"could\", \"miss\", \"think\", \"want\", \"time\", \"user\", \"inquiry\", \"iphone\", \"cannon\", \"yellowgratis\", \"bike\", \"advantage\", \"earth\", \"pleasure\", \"supply\", \"danish\", \"thumb\", \"leg\", \"confidence\", \"useriase\", \"smooth\", \"esbjerg\", \"jump\", \"series\", \"window\", \"setting\", \"dog\", \"ipad\", \"indicate\", \"garden\", \"decline\", \"girl\", \"weapon\", \"kroner\", \"extend\", \"browser\", \"experience\", \"bind\", \"trouble\", \"settle\", \"set\", \"easy\", \"photo\", \"effect\", \"steal\", \"trade\", \"problem\", \"scammer\", \"dk\", \"selection\", \"act\", \"sale\", \"time\", \"have\", \"lose\", \"place\", \"buy\", \"bid\", \"description\", \"star\", \"find\", \"could\"], \"Freq\": [3404.0, 1958.0, 1714.0, 1370.0, 977.0, 855.0, 654.0, 1899.0, 1459.0, 1145.0, 1261.0, 1254.0, 972.0, 873.0, 446.0, 657.0, 1078.0, 706.0, 756.0, 629.0, 569.0, 358.0, 688.0, 541.0, 330.0, 847.0, 650.0, 464.0, 778.0, 571.0, 310.399618498208, 268.18033669635275, 214.74488967917526, 209.54219381261402, 200.46143773633125, 194.92110996752126, 180.43382236212045, 128.723638192854, 127.63736080144498, 124.19470422833685, 115.60998845603145, 114.40378098068037, 105.35106394245479, 95.69182157892202, 79.21688770931308, 74.46907261575996, 73.23872893337511, 65.53434482274257, 64.45714230672137, 64.35215192148009, 63.53690975064235, 62.24279338626362, 59.630519641472986, 56.601018452789155, 56.394818880384825, 55.68714782858165, 54.139479657403264, 54.071248863549286, 52.40165688580575, 49.44585997350875, 114.31297934291314, 1532.1268230468786, 717.1464063071604, 385.32377813414394, 501.90220809965484, 2545.4129398168775, 627.1236424601544, 548.3206399329366, 561.8183007428419, 490.8864939779802, 754.3021191781784, 715.7493408756637, 273.564931988228, 375.77624769817055, 376.67768532002566, 594.7711405566332, 643.2564440085431, 581.1173241986795, 373.77474056660145, 453.3619900171931, 483.1415003288261, 265.9250503572604, 468.2830735889754, 345.40839354233947, 439.48965742903897, 577.7740047230566, 383.0887780549511, 332.97725270283576, 308.24157505458817, 331.8807369904764, 277.7160634482552, 263.68982680365656, 254.2486859536993, 253.5528137788607, 208.8752394626519, 209.3500900372622, 179.78637248580827, 174.14526671711616, 157.2893932577541, 155.36684455038144, 100.21009109602305, 97.4559095415981, 94.44515536518077, 85.99258400559167, 83.39360976507967, 77.961129297867, 76.26231258199839, 71.75380948913771, 71.39787525322986, 67.95207002072061, 67.52316722950115, 61.418671850535006, 58.943273992621336, 57.66090557063762, 55.434572717164194, 53.16381355761117, 52.128352635355874, 52.16094384333417, 43.96627951616616, 41.49452322689904, 40.128722975307625, 831.4613108780327, 114.61602026462079, 127.97355179677592, 113.9651771669277, 237.46416396037546, 491.90774866341843, 187.71573024609071, 958.3589038510067, 169.6174167515602, 453.79568982260446, 221.98649952247922, 225.39854957529664, 486.0714947228726, 402.4883155360804, 112.79490337799689, 319.1863186589377, 285.3104849849433, 150.3867250614573, 520.7014822982178, 413.03739117562634, 335.6837885995425, 347.2695639598102, 325.88594030389623, 222.4215588926548, 332.69224827048174, 427.8883732429685, 283.33635570249476, 257.9413030739748, 251.00469678814545, 233.71339813892646, 278.0196654785254, 212.40880816235983, 1957.3709722745273, 656.4016838193786, 313.1502180236345, 272.0552439924586, 227.56276586353601, 211.92668968200033, 149.26824779388448, 146.6900971237679, 146.55340609797582, 109.2183445807229, 95.37040431704135, 79.94844217693004, 72.9534957662033, 72.3259823022219, 72.12782383709676, 67.71430003882561, 64.19808894039966, 60.744950165138114, 58.68179233861303, 52.96401481243779, 51.464606433456126, 43.92446583013699, 43.107136965403186, 40.99713829213891, 40.68959125594124, 39.746106087126805, 37.93604193813369, 36.335199460725526, 37.28468837171783, 35.802855996535854, 1509.592186820219, 68.55464519153321, 835.9309993907393, 561.0329426749277, 494.63819133437, 286.3526527627716, 156.9178935457942, 587.7860841295917, 418.5613507054577, 417.69908120752837, 135.88979628259517, 324.38250851557075, 233.36498437192816, 113.39150108051226, 233.07866998767864, 159.5685398884482, 377.9485102014615, 265.47150534695015, 282.9105383347972, 243.9451402280778, 244.58982944638035, 275.0053702070635, 427.2145734508023, 293.75330447986624, 254.6196772428139, 204.61504101399433, 212.15354953206122, 180.33620297639746, 183.11074790519984, 174.10305041966856, 77.36480270401553, 77.09371933352907, 72.75130892149902, 69.83516407292436, 65.60830918768698, 48.9171043502243, 40.30313667855577, 39.40635330751004, 38.094275329335595, 37.79244880578359, 33.959394524603475, 31.728150898602934, 31.419300350697693, 30.652562471321296, 30.29222535856311, 28.91002261243842, 28.60188712486886, 28.946901516148273, 25.820038157660683, 25.2393403238793, 25.407028634648146, 25.695950761893894, 26.11941526646035, 24.792027890912767, 24.754700408979915, 24.549848946914366, 24.491580412293857, 24.42886162639169, 23.792755499332504, 1042.762769801986, 75.23605476060234, 319.55024886596743, 432.92143954651544, 110.93499344100539, 93.85030999870493, 55.3864861582497, 101.52115750130221, 512.4873489702724, 511.04628476682643, 858.0600380412136, 104.0452494243419, 146.74770221804616, 134.19070087661257, 192.557860527021, 165.10648993746497, 291.6482570238792, 346.7387792650557, 130.15043232530118, 65.35323695080369, 274.82861669084457, 145.73317816688385, 109.37453636834431, 200.2502397843224, 130.03695535898737, 100.40226128934246, 103.38655893823358, 91.03537061515541, 88.40468584704601, 84.81711710874572, 84.89972656367476, 85.20219264429717, 446.14237947927, 357.9179221098494, 329.58580446536234, 201.24335565871718, 57.75414735482151, 53.349564566013186, 52.78170259559373, 52.69497709843809, 49.317987456206325, 41.76532196486985, 39.365848794562204, 37.22673503802622, 36.95663331780117, 36.91523190282437, 34.77881116910842, 32.73278792844362, 31.777848811356712, 29.823960825638245, 28.744251759456205, 28.692146002200992, 26.68992079745033, 26.48002761509124, 25.622498012737843, 25.622498012737843, 23.997009763260692, 23.676475686123954, 23.814275461982973, 23.7326734830856, 21.762063350007207, 22.1001359499751, 535.8912977867401, 698.8018482046634, 132.76771875314157, 348.63649856564984, 303.5559062991535, 86.28071818416608, 210.2620756736841, 467.5200891924806, 208.6607196186346, 276.8016358061045, 72.47042291997558, 158.5204557531418, 277.15360542005885, 94.46281255127332, 150.5698800497561, 61.97743720236461, 208.223345613059, 107.57506952560861, 168.6136342866542, 105.43441109183246, 77.02228187626439, 166.95408183909106, 121.68633973012714, 129.6124986932778, 113.03515804971948, 73.30673692242718, 102.05671008508219, 100.80635483326184, 105.06508418362667, 86.967903083939, 190.5903748996231, 70.94214539491661, 66.42396668714254, 65.44712985335431, 57.52087412729577, 48.31295926344359, 47.71070990914016, 46.36681040902983, 41.69383406408679, 41.33494919058199, 41.27745329551767, 40.16092545704617, 38.79907938119041, 36.400482997046595, 35.258970913218825, 35.15763728086585, 33.70295926411261, 33.110644528840076, 33.19643361774852, 32.13390875142698, 31.49168771398045, 28.703511230186802, 29.23718994718855, 28.451453309938863, 29.80256149814098, 28.26557435944813, 27.437642798802734, 26.890912262276043, 26.832019716283803, 26.69902952662762, 554.7332478785012, 86.91598150333644, 68.02609372876124, 126.79486379980459, 83.19395083063839, 94.29635660289493, 57.63208278133022, 64.7791731257109, 59.1842413322364, 206.53217872831942, 224.14293636566805, 94.1984614784851, 50.79481055355056, 47.20020419630985, 79.96394551006945, 201.57235256700744, 221.13558156018752, 60.98409683212578, 63.257761624731856, 93.5585206874515, 93.00174670195148, 59.17362263928162, 57.87774305567641, 57.58116591540504, 61.722715286679104, 55.32682621114858], \"Total\": [3404.0, 1958.0, 1714.0, 1370.0, 977.0, 855.0, 654.0, 1899.0, 1459.0, 1145.0, 1261.0, 1254.0, 972.0, 873.0, 446.0, 657.0, 1078.0, 706.0, 756.0, 629.0, 569.0, 358.0, 688.0, 541.0, 330.0, 847.0, 650.0, 464.0, 778.0, 571.0, 311.21920923550283, 268.99838507403734, 215.56460600832804, 210.36279804667547, 201.28762606349034, 195.7404040606113, 181.25562878802123, 129.5425033414612, 128.45447716786833, 125.01355220207957, 116.43156275453718, 115.22521594719082, 106.16996311803712, 96.5097552234319, 80.03655805433273, 75.2997967006756, 74.05701427733489, 66.35706930287768, 65.2753812112726, 65.17463660256887, 64.36150852971879, 63.086983279760375, 60.44683989872192, 57.42099595689694, 57.21502450152168, 56.515922284512705, 54.96215428393031, 54.902462402819715, 53.21949831832595, 50.263828978847066, 120.70043017531316, 1899.8555450035158, 847.8286423941979, 439.0200216078247, 591.8278882304377, 3404.119384334945, 778.2695247185279, 694.6990067248248, 728.2865062876381, 639.2484500508696, 1118.0757562824888, 1078.6300801466834, 375.2820459826611, 589.9926706325683, 629.6527295173822, 1178.974289883452, 1419.0477350579101, 1261.3019185772287, 683.7164542636533, 947.4994656289568, 1063.5626342675941, 422.397500112581, 1065.6236429442174, 688.495572351121, 1145.3219681779754, 2033.9062338514864, 1019.1398472960943, 784.3264557748269, 847.7211146545652, 1254.5145787187685, 977.2166364808655, 264.46582341466393, 255.02311605662524, 254.3307551434023, 209.65133197617698, 210.14456905662368, 180.56092262770792, 174.92179996188432, 158.06522814206446, 156.1438087057829, 100.98541363572788, 98.2312001029046, 95.22152384515002, 86.76823901756187, 84.16988383831892, 78.74448422906096, 77.04823465435638, 72.53371860966703, 72.17407834525353, 68.72774691995805, 68.3068099453911, 62.195147661798806, 59.724900190208494, 58.437176134800204, 56.21023321437707, 53.93969104629372, 52.90365142922679, 52.93946029538057, 44.74115459934114, 42.28952842344719, 40.90982846863188, 873.7984897380469, 121.31113066983707, 141.23781299830662, 124.92800593133393, 281.23218092365977, 658.8347915878177, 223.63425186091342, 1459.6043069288314, 201.8542856813534, 657.8237329281, 293.1326798357065, 313.92309824809445, 930.1530395595435, 754.7187463815534, 134.4960419304756, 618.430167286267, 529.8854573120524, 206.10475457716223, 1419.0477350579101, 1065.6236429442174, 784.3264557748269, 947.4994656289568, 847.7211146545652, 437.71208085571175, 1019.1398472960943, 2033.9062338514864, 822.7874351921766, 683.7164542636533, 633.194956639616, 545.5527433260677, 1178.974289883452, 855.978161660581, 1958.2022912936445, 657.2323744946679, 313.9812376797273, 272.8874864674317, 228.3942852200108, 212.75831960110972, 150.10207814376335, 147.52205454410796, 147.3878488419543, 110.04712328753631, 96.20879371608417, 80.78724839851289, 73.7835616404473, 73.15911067341017, 72.96631090842203, 68.5472426630749, 65.03070858466943, 61.58013719358393, 59.51124597543098, 53.79658376669343, 52.30174492921915, 44.757828918489984, 43.939337234334374, 41.83623620687056, 41.53069748904326, 40.57822671779596, 38.77019937373413, 37.16402748040269, 38.14038181311301, 36.64571034752619, 1714.4118989644044, 71.78621890561045, 972.3631185107554, 650.1340134738422, 571.6981714409287, 333.05640320447594, 174.75950536717278, 755.6912390595804, 566.4471585129128, 572.231186830628, 160.32948501965316, 443.1881856167358, 321.48970717856156, 133.4312413704471, 350.00158835892967, 220.49260299358548, 756.3672822025642, 481.93660319705214, 620.0180136287053, 529.8854573120524, 548.8780266234978, 752.9719119230548, 2033.9062338514864, 930.1530395595435, 1419.0477350579101, 618.430167286267, 754.7187463815534, 615.4296682889903, 1019.1398472960943, 174.92534520956715, 78.17599322970585, 77.90298723765484, 73.55724734153095, 70.63873368855188, 66.41739795452773, 49.731288932354964, 41.10972940076129, 40.21413722106975, 38.903967764020436, 38.598698641216494, 34.76457261579023, 32.53353210443059, 32.233993779136334, 31.458592977899404, 31.095747029298103, 29.721720302556413, 29.412989619138703, 29.791858676327298, 26.624364071767477, 26.040550317586778, 26.215973055278496, 26.5146393873847, 26.957909201774008, 25.5976271286815, 25.564091126457612, 25.354321636246365, 25.29677202004623, 25.2391624950712, 24.612550260154023, 1370.06738755908, 86.70674267310704, 464.86660664475824, 706.991986847297, 146.10617818990957, 124.87301520260824, 70.13232473089579, 151.41076381976637, 1254.5145787187685, 1261.3019185772287, 3404.119384334945, 190.51240058793826, 326.3214569015492, 295.67052168923345, 516.5037585379375, 411.1743117266794, 1063.5626342675941, 1459.6043069288314, 336.60854823108644, 106.80576415490602, 2033.9062338514864, 694.6990067248248, 437.71208085571175, 1899.8555450035158, 847.8286423941979, 548.8780266234978, 615.4296682889903, 1178.974289883452, 855.978161660581, 658.8347915878177, 752.9719119230548, 1078.6300801466834, 446.99906596020725, 358.77491692099625, 330.4486421445147, 202.10008046748982, 58.611975289197204, 54.204750579434126, 53.64136988746333, 53.55337292666201, 50.17690941451463, 42.62346848087179, 40.22288721498143, 38.08784153030157, 37.81491902195089, 37.77518518570975, 35.63880357476015, 33.60135501606809, 32.636968579008716, 30.684957014163945, 29.59930019131072, 29.563188693442413, 27.545492242477668, 27.335821422301947, 26.48234361366935, 26.48234361366935, 24.85245614953526, 24.531534094320925, 24.67569246698724, 24.59268421405123, 22.61878485048825, 22.97886139246387, 654.6264402215317, 977.2166364808655, 165.8710665292031, 569.9408151627844, 541.7814134798709, 120.20982093379297, 379.60114726375684, 1145.3219681779754, 418.7238805056482, 688.495572351121, 110.47193664405462, 375.0818970742723, 1078.6300801466834, 194.69597348439441, 542.9361605805163, 108.3286677252165, 1254.5145787187685, 433.81076315086153, 1261.3019185772287, 437.71208085571175, 215.42605986202338, 1899.8555450035158, 847.7211146545652, 1178.974289883452, 822.7874351921766, 217.30698714024436, 1063.5626342675941, 1118.0757562824888, 2033.9062338514864, 589.9926706325683, 191.3982655980208, 71.75018706489972, 67.22792670908876, 66.25700431901859, 58.326522856044704, 49.122135244862825, 48.52543278653491, 47.17601444714454, 42.5020832052371, 42.14434880564566, 42.09990888480717, 40.97924574264883, 39.60351935031933, 37.206447026303, 36.06258237216754, 35.96650703939995, 34.512401317115376, 33.91795052486563, 34.00719352171929, 32.94686469164972, 32.29778412832994, 29.508622697679705, 30.059745317615054, 29.25903160592234, 30.654733921089946, 29.08649291843522, 28.241627913453687, 27.69847175677786, 27.63960733349059, 27.53376714956752, 855.978161660581, 110.99414995288038, 83.06413503962095, 177.23832599575755, 110.6282224799287, 138.9100809896943, 74.586140335546, 92.74410580299987, 82.69044238831044, 629.6527295173822, 756.3672822025642, 191.4514531777126, 70.75533818040262, 63.40757832528021, 185.28353460027003, 1254.5145787187685, 2033.9062338514864, 141.38792083409896, 163.51581034226314, 778.2695247185279, 947.4994656289568, 190.51240058793826, 215.05859004995756, 350.492797622149, 1145.3219681779754, 822.7874351921766], \"Category\": [\"Default\", \"Default\", \"Default\", \"Default\", \"Default\", \"Default\", \"Default\", \"Default\", \"Default\", \"Default\", \"Default\", \"Default\", \"Default\", \"Default\", \"Default\", \"Default\", \"Default\", \"Default\", \"Default\", \"Default\", \"Default\", \"Default\", \"Default\", \"Default\", \"Default\", \"Default\", \"Default\", \"Default\", \"Default\", \"Default\", \"Topic1\", \"Topic1\", \"Topic1\", \"Topic1\", \"Topic1\", \"Topic1\", \"Topic1\", \"Topic1\", \"Topic1\", \"Topic1\", \"Topic1\", \"Topic1\", \"Topic1\", \"Topic1\", \"Topic1\", \"Topic1\", \"Topic1\", \"Topic1\", \"Topic1\", \"Topic1\", \"Topic1\", \"Topic1\", \"Topic1\", \"Topic1\", \"Topic1\", \"Topic1\", \"Topic1\", \"Topic1\", \"Topic1\", \"Topic1\", \"Topic1\", \"Topic1\", \"Topic1\", \"Topic1\", \"Topic1\", \"Topic1\", \"Topic1\", \"Topic1\", \"Topic1\", \"Topic1\", \"Topic1\", \"Topic1\", \"Topic1\", \"Topic1\", \"Topic1\", \"Topic1\", \"Topic1\", \"Topic1\", \"Topic1\", \"Topic1\", \"Topic1\", \"Topic1\", \"Topic1\", \"Topic1\", \"Topic1\", \"Topic1\", \"Topic1\", \"Topic1\", \"Topic1\", \"Topic1\", \"Topic1\", \"Topic2\", \"Topic2\", \"Topic2\", \"Topic2\", \"Topic2\", \"Topic2\", \"Topic2\", \"Topic2\", \"Topic2\", \"Topic2\", \"Topic2\", \"Topic2\", \"Topic2\", \"Topic2\", \"Topic2\", \"Topic2\", \"Topic2\", \"Topic2\", \"Topic2\", \"Topic2\", \"Topic2\", \"Topic2\", \"Topic2\", \"Topic2\", \"Topic2\", \"Topic2\", \"Topic2\", \"Topic2\", \"Topic2\", \"Topic2\", \"Topic2\", \"Topic2\", \"Topic2\", \"Topic2\", \"Topic2\", \"Topic2\", \"Topic2\", \"Topic2\", \"Topic2\", \"Topic2\", \"Topic2\", \"Topic2\", \"Topic2\", \"Topic2\", \"Topic2\", \"Topic2\", \"Topic2\", \"Topic2\", \"Topic2\", \"Topic2\", \"Topic2\", \"Topic2\", \"Topic2\", \"Topic2\", \"Topic2\", \"Topic2\", \"Topic2\", \"Topic2\", \"Topic2\", \"Topic2\", \"Topic2\", \"Topic2\", \"Topic3\", \"Topic3\", \"Topic3\", \"Topic3\", \"Topic3\", \"Topic3\", \"Topic3\", \"Topic3\", \"Topic3\", \"Topic3\", \"Topic3\", \"Topic3\", \"Topic3\", \"Topic3\", \"Topic3\", \"Topic3\", \"Topic3\", \"Topic3\", \"Topic3\", \"Topic3\", \"Topic3\", \"Topic3\", \"Topic3\", \"Topic3\", \"Topic3\", \"Topic3\", \"Topic3\", \"Topic3\", \"Topic3\", \"Topic3\", \"Topic3\", \"Topic3\", \"Topic3\", \"Topic3\", \"Topic3\", \"Topic3\", \"Topic3\", \"Topic3\", \"Topic3\", \"Topic3\", \"Topic3\", \"Topic3\", \"Topic3\", \"Topic3\", \"Topic3\", \"Topic3\", \"Topic3\", \"Topic3\", \"Topic3\", \"Topic3\", \"Topic3\", \"Topic3\", \"Topic3\", \"Topic3\", \"Topic3\", \"Topic3\", \"Topic3\", \"Topic3\", \"Topic3\", \"Topic4\", \"Topic4\", \"Topic4\", \"Topic4\", \"Topic4\", \"Topic4\", \"Topic4\", \"Topic4\", \"Topic4\", \"Topic4\", \"Topic4\", \"Topic4\", \"Topic4\", \"Topic4\", \"Topic4\", \"Topic4\", \"Topic4\", \"Topic4\", \"Topic4\", \"Topic4\", \"Topic4\", \"Topic4\", \"Topic4\", \"Topic4\", \"Topic4\", \"Topic4\", \"Topic4\", \"Topic4\", \"Topic4\", \"Topic4\", \"Topic4\", \"Topic4\", \"Topic4\", \"Topic4\", \"Topic4\", \"Topic4\", \"Topic4\", \"Topic4\", \"Topic4\", \"Topic4\", \"Topic4\", \"Topic4\", \"Topic4\", \"Topic4\", \"Topic4\", \"Topic4\", \"Topic4\", \"Topic4\", \"Topic4\", \"Topic4\", \"Topic4\", \"Topic4\", \"Topic4\", \"Topic4\", \"Topic4\", \"Topic4\", \"Topic4\", \"Topic4\", \"Topic4\", \"Topic4\", \"Topic4\", \"Topic4\", \"Topic5\", \"Topic5\", \"Topic5\", \"Topic5\", \"Topic5\", \"Topic5\", \"Topic5\", \"Topic5\", \"Topic5\", \"Topic5\", \"Topic5\", \"Topic5\", \"Topic5\", \"Topic5\", \"Topic5\", \"Topic5\", \"Topic5\", \"Topic5\", \"Topic5\", \"Topic5\", \"Topic5\", \"Topic5\", \"Topic5\", \"Topic5\", \"Topic5\", \"Topic5\", \"Topic5\", \"Topic5\", \"Topic5\", \"Topic5\", \"Topic5\", \"Topic5\", \"Topic5\", \"Topic5\", \"Topic5\", \"Topic5\", \"Topic5\", \"Topic5\", \"Topic5\", \"Topic5\", \"Topic5\", \"Topic5\", \"Topic5\", \"Topic5\", \"Topic5\", \"Topic5\", \"Topic5\", \"Topic5\", \"Topic5\", \"Topic5\", \"Topic5\", \"Topic5\", \"Topic5\", \"Topic5\", \"Topic5\", \"Topic5\", \"Topic5\", \"Topic5\", \"Topic5\", \"Topic5\", \"Topic6\", \"Topic6\", \"Topic6\", \"Topic6\", \"Topic6\", \"Topic6\", \"Topic6\", \"Topic6\", \"Topic6\", \"Topic6\", \"Topic6\", \"Topic6\", \"Topic6\", \"Topic6\", \"Topic6\", \"Topic6\", \"Topic6\", \"Topic6\", \"Topic6\", \"Topic6\", \"Topic6\", \"Topic6\", \"Topic6\", \"Topic6\", \"Topic6\", \"Topic6\", \"Topic6\", \"Topic6\", \"Topic6\", \"Topic6\", \"Topic6\", \"Topic6\", \"Topic6\", \"Topic6\", \"Topic6\", \"Topic6\", \"Topic6\", \"Topic6\", \"Topic6\", \"Topic6\", \"Topic6\", \"Topic6\", \"Topic6\", \"Topic6\", \"Topic6\", \"Topic6\", \"Topic6\", \"Topic6\", \"Topic6\", \"Topic6\", \"Topic6\", \"Topic6\", \"Topic6\", \"Topic6\", \"Topic6\", \"Topic6\"], \"logprob\": [30.0, 29.0, 28.0, 27.0, 26.0, 25.0, 24.0, 23.0, 22.0, 21.0, 20.0, 19.0, 18.0, 17.0, 16.0, 15.0, 14.0, 13.0, 12.0, 11.0, 10.0, 9.0, 8.0, 7.0, 6.0, 5.0, 4.0, 3.0, 2.0, 1.0, -4.986000061035156, -5.132199764251709, -5.354400157928467, -5.378900051116943, -5.4232001304626465, -5.451300144195557, -5.528500080108643, -5.866199970245361, -5.87470006942749, -5.9019999504089355, -5.973599910736084, -5.984099864959717, -6.0665998458862305, -6.162700176239014, -6.3516998291015625, -6.41349983215332, -6.430099964141846, -6.541299819946289, -6.5578999519348145, -6.559500217437744, -6.572199821472168, -6.592800140380859, -6.635700225830078, -6.68779993057251, -6.691500186920166, -6.704100131988525, -6.7322998046875, -6.73360013961792, -6.764900207519531, -6.822999954223633, -5.984899997711182, -3.389400005340576, -4.148600101470947, -4.769800186157227, -4.505499839782715, -2.8817999362945557, -4.282700061798096, -4.416999816894531, -4.3927001953125, -4.527599811553955, -4.098100185394287, -4.1504998207092285, -5.112299919128418, -4.794899940490723, -4.792500019073486, -4.335700035095215, -4.257299900054932, -4.35890007019043, -4.80019998550415, -4.6072001457214355, -4.543600082397461, -5.140600204467773, -4.57480001449585, -4.8790998458862305, -4.638199806213379, -4.364699840545654, -4.775599956512451, -4.915800094604492, -4.993000030517578, -4.919099807739258, -5.097300052642822, -4.908400058746338, -4.944799900054932, -4.9475998878479, -5.14139986038208, -5.139100074768066, -5.291399955749512, -5.323299884796143, -5.425099849700928, -5.437399864196777, -5.875899791717529, -5.903800010681152, -5.935100078582764, -6.028900146484375, -6.059599876403809, -6.1269001960754395, -6.14900016784668, -6.20989990234375, -6.214900016784668, -6.2642998695373535, -6.270699977874756, -6.3653998374938965, -6.406599998474121, -6.428599834442139, -6.467899799346924, -6.509799957275391, -6.529399871826172, -6.528800010681152, -6.699699878692627, -6.757599830627441, -6.791100025177002, -3.759999990463257, -5.741600036621094, -5.63129997253418, -5.747300148010254, -5.0131001472473145, -4.284900188446045, -5.248199939727783, -3.6178998947143555, -5.349599838256836, -4.365499973297119, -5.08050012588501, -5.065299987792969, -4.296800136566162, -4.485499858856201, -5.757599830627441, -4.717400074005127, -4.829599857330322, -5.469900131225586, -4.228000164031982, -4.45959997177124, -4.666999816894531, -4.632999897003174, -4.696599960327148, -5.07859992980957, -4.675899982452393, -4.424300193786621, -4.83650016784668, -4.9303998947143555, -4.957699775695801, -5.029099941253662, -4.855500221252441, -5.124599933624268, -2.8362998962402344, -3.9289000034332275, -4.669000148773193, -4.809700012207031, -4.98829984664917, -5.059500217437744, -5.409999847412109, -5.4274001121521, -5.428299903869629, -5.722400188446045, -5.857900142669678, -6.034299850463867, -6.125899791717529, -6.134500026702881, -6.13730001449585, -6.200399875640869, -6.253699779510498, -6.309000015258789, -6.343599796295166, -6.446100234985352, -6.474800109863281, -6.633200168609619, -6.6519999504089355, -6.702199935913086, -6.709700107574463, -6.7332000732421875, -6.779799938201904, -6.82289981842041, -6.797100067138672, -6.837699890136719, -3.096100091934204, -6.1880998611450195, -3.6872000694274902, -4.085899829864502, -4.211900234222412, -4.758500099182129, -5.360000133514404, -4.039299964904785, -4.378900051116943, -4.380899906158447, -5.503900051116943, -4.633800029754639, -4.963099956512451, -5.684899806976318, -4.964300155639648, -5.343200206756592, -4.480899810791016, -4.834199905395508, -4.770599842071533, -4.918799877166748, -4.916100025177002, -4.798900127410889, -4.358399868011475, -4.732999801635742, -4.875899791717529, -5.094600200653076, -5.0584001541137695, -5.220900058746338, -5.205599784851074, -4.696499824523926, -5.507599830627441, -5.511099815368652, -5.5690999031066895, -5.610000133514404, -5.672500133514404, -5.966000080108643, -6.1596999168396, -6.182199954986572, -6.216100215911865, -6.224100112915039, -6.330999851226807, -6.39900016784668, -6.408699989318848, -6.4334001541137695, -6.445300102233887, -6.492000102996826, -6.502699851989746, -6.490699768066406, -6.605000019073486, -6.627799987792969, -6.621099948883057, -6.609799861907959, -6.593500137329102, -6.645599842071533, -6.64709997177124, -6.6554999351501465, -6.657800197601318, -6.660399913787842, -6.686800003051758, -2.9065001010894775, -5.5355000495910645, -4.089200019836426, -3.785599946975708, -5.147200107574463, -5.314499855041504, -5.841800212860107, -5.235899925231934, -3.6168999671936035, -3.6196999549865723, -3.1015000343322754, -5.211299896240234, -4.867400169372559, -4.956900119781494, -4.595799922943115, -4.749599933624268, -4.180600166320801, -4.007599830627441, -4.987500190734863, -5.676400184631348, -4.239999771118164, -4.8744001388549805, -5.161399841308594, -4.556600093841553, -4.98829984664917, -5.247000217437744, -5.217700004577637, -5.344900131225586, -5.374199867248535, -5.4156999588012695, -5.414700031280518, -5.411099910736084, -3.484600067138672, -3.7049999237060547, -3.787400007247925, -4.280799865722656, -5.529099941253662, -5.608399868011475, -5.619100093841553, -5.620800018310547, -5.686999797821045, -5.8531999588012695, -5.912399768829346, -5.968200206756592, -5.975500106811523, -5.9766998291015625, -6.036300182342529, -6.09689998626709, -6.126500129699707, -6.190000057220459, -6.226799964904785, -6.228700160980225, -6.301000118255615, -6.308899879455566, -6.341800212860107, -6.341800212860107, -6.407299995422363, -6.42080020904541, -6.414999961853027, -6.418399810791016, -6.505099773406982, -6.489699840545654, -3.301300048828125, -3.035900115966797, -4.696700096130371, -3.7311999797821045, -3.8696999549865723, -5.127699851989746, -4.2368998527526855, -3.4377999305725098, -4.24459981918335, -3.9619998931884766, -5.30210018157959, -4.519400119781494, -3.960700035095215, -5.037099838256836, -4.570799827575684, -5.458499908447266, -4.246699810028076, -4.907100200653076, -4.457699775695801, -4.927199840545654, -5.241199970245361, -4.467599868774414, -4.78380012512207, -4.720699787139893, -4.857600212097168, -5.290599822998047, -4.959700107574463, -4.972099781036377, -4.930699825286865, -5.119699954986572, -4.067200183868408, -5.055500030517578, -5.121300220489502, -5.136099815368652, -5.265200138092041, -5.439599990844727, -5.452199935913086, -5.4807000160217285, -5.586999893188477, -5.595600128173828, -5.5970001220703125, -5.6244001388549805, -5.658899784088135, -5.722700119018555, -5.7546000480651855, -5.757500171661377, -5.799699783325195, -5.817500114440918, -5.814899921417236, -5.847400188446045, -5.867599964141846, -5.960299968719482, -5.94189977645874, -5.969099998474121, -5.922699928283691, -5.9756999015808105, -6.00540018081665, -6.0254998207092285, -6.027699947357178, -6.032700061798096, -2.998800039291382, -4.852399826049805, -5.097400188446045, -4.474699974060059, -4.896100044250488, -4.770899772644043, -5.263199806213379, -5.146299839019775, -5.236700057983398, -3.9869000911712646, -3.9049999713897705, -4.771900177001953, -5.389500141143799, -5.462900161743164, -4.935699939727783, -4.011199951171875, -3.9184999465942383, -5.206699848175049, -5.170100212097168, -4.77869987487793, -4.7846999168396, -5.236800193786621, -5.258999824523926, -5.264100074768066, -5.194699764251709, -5.304100036621094], \"loglift\": [30.0, 29.0, 28.0, 27.0, 26.0, 25.0, 24.0, 23.0, 22.0, 21.0, 20.0, 19.0, 18.0, 17.0, 16.0, 15.0, 14.0, 13.0, 12.0, 11.0, 10.0, 9.0, 8.0, 7.0, 6.0, 5.0, 4.0, 3.0, 2.0, 1.0, 1.2519, 1.2514, 1.2507, 1.2506, 1.2504, 1.2503, 1.2499, 1.2481, 1.2481, 1.2479, 1.2474, 1.2473, 1.2467, 1.246, 1.2442, 1.2434, 1.2434, 1.242, 1.2419, 1.2418, 1.2416, 1.241, 1.2409, 1.2401, 1.2401, 1.2397, 1.2394, 1.2392, 1.239, 1.2381, 1.2001, 1.0394, 1.0871, 1.124, 1.0897, 0.9638, 1.0386, 1.0179, 0.995, 0.9904, 0.8609, 0.8444, 0.9384, 0.8034, 0.7407, 0.5703, 0.4633, 0.4795, 0.6506, 0.5174, 0.4654, 0.7918, 0.4322, 0.5647, 0.2967, -0.004, 0.276, 0.3977, 0.2428, -0.0752, -0.0036, 1.4923, 1.4922, 1.4921, 1.4915, 1.4914, 1.4909, 1.4908, 1.4903, 1.4902, 1.4875, 1.4873, 1.487, 1.4862, 1.4859, 1.4852, 1.4849, 1.4844, 1.4844, 1.4838, 1.4837, 1.4826, 1.482, 1.4818, 1.4813, 1.4807, 1.4804, 1.4804, 1.4777, 1.4762, 1.4759, 1.4455, 1.4384, 1.3966, 1.4034, 1.326, 1.203, 1.3201, 1.0745, 1.3212, 1.1239, 1.2172, 1.1639, 0.8462, 0.8665, 1.3192, 0.8338, 0.8761, 1.18, 0.4926, 0.5474, 0.6465, 0.4915, 0.5392, 0.8182, 0.3757, -0.0637, 0.4291, 0.5204, 0.5699, 0.6475, 0.0505, 0.1015, 1.5622, 1.5614, 1.56, 1.5596, 1.559, 1.5587, 1.5571, 1.557, 1.557, 1.5551, 1.5539, 1.5522, 1.5513, 1.5512, 1.5511, 1.5504, 1.5498, 1.549, 1.5486, 1.547, 1.5465, 1.5438, 1.5435, 1.5424, 1.5422, 1.5419, 1.5409, 1.5401, 1.54, 1.5394, 1.4354, 1.5166, 1.4115, 1.4152, 1.4179, 1.4116, 1.455, 1.3114, 1.2601, 1.2479, 1.3973, 1.2506, 1.2423, 1.3999, 1.1561, 1.2393, 0.8689, 0.9663, 0.778, 0.7869, 0.7544, 0.5554, 0.0022, 0.41, -0.1553, 0.4566, 0.2936, 0.3351, -0.154, 2.1175, 2.1118, 2.1117, 2.1112, 2.1107, 2.1099, 2.1057, 2.1024, 2.1019, 2.1012, 2.1011, 2.0988, 2.0971, 2.0966, 2.0962, 2.096, 2.0945, 2.0942, 2.0934, 2.0915, 2.0909, 2.0908, 2.0908, 2.0906, 2.0902, 2.09, 2.0899, 2.0898, 2.0896, 2.0883, 1.8492, 1.9803, 1.7474, 1.6317, 1.8468, 1.8366, 1.8861, 1.7225, 1.227, 1.2187, 0.7441, 1.5173, 1.323, 1.3322, 1.1355, 1.2098, 0.8284, 0.6848, 1.172, 1.631, 0.1206, 0.5605, 0.7354, -0.1278, 0.2473, 0.4235, 0.3383, -0.439, -0.1481, 0.0722, -0.0604, -0.4162, 2.3912, 2.3907, 2.3905, 2.3888, 2.3783, 2.3772, 2.3769, 2.3769, 2.3758, 2.3727, 2.3715, 2.3702, 2.3701, 2.37, 2.3686, 2.3669, 2.3664, 2.3646, 2.3638, 2.3632, 2.3615, 2.3613, 2.3601, 2.3601, 2.358, 2.3576, 2.3575, 2.3575, 2.3545, 2.3541, 2.1929, 2.0577, 2.1705, 1.9016, 1.8138, 2.0614, 1.8023, 1.4971, 1.6966, 1.4819, 1.9715, 1.5318, 1.0342, 1.6698, 1.1105, 1.8347, 0.5972, 0.9987, 0.3808, 0.9696, 1.3646, -0.0387, 0.452, 0.1852, 0.4081, 1.3064, 0.0492, -0.0131, -0.5701, 0.4785, 2.6568, 2.6497, 2.649, 2.6487, 2.6471, 2.6444, 2.6441, 2.6437, 2.6418, 2.6416, 2.6413, 2.6409, 2.6405, 2.6391, 2.6385, 2.6383, 2.6373, 2.6369, 2.6369, 2.636, 2.6358, 2.6334, 2.6333, 2.633, 2.6328, 2.6324, 2.6322, 2.6314, 2.6314, 2.6302, 2.2273, 2.4165, 2.4613, 2.3261, 2.376, 2.2736, 2.4032, 2.3022, 2.3266, 1.5463, 1.4448, 1.9518, 2.3296, 2.3658, 1.8207, 0.8327, 0.4421, 1.8201, 1.7113, 0.5425, 0.3398, 1.4918, 1.3485, 0.8549, -0.2598, -0.0384]}, \"token.table\": {\"Topic\": [1, 2, 3, 1, 2, 6, 1, 5, 3, 2, 6, 1, 3, 5, 1, 3, 5, 5, 4, 2, 2, 3, 5, 1, 4, 5, 2, 4, 1, 1, 1, 2, 5, 1, 4, 6, 6, 2, 5, 6, 4, 5, 5, 3, 6, 1, 1, 2, 4, 6, 1, 4, 4, 2, 3, 1, 2, 3, 5, 6, 1, 2, 5, 5, 1, 2, 3, 4, 3, 5, 5, 2, 1, 2, 3, 4, 5, 3, 1, 2, 1, 5, 5, 3, 5, 1, 2, 2, 4, 1, 2, 3, 4, 6, 1, 2, 3, 4, 5, 2, 5, 5, 4, 5, 1, 2, 6, 2, 3, 1, 2, 5, 1, 2, 3, 4, 5, 6, 1, 1, 3, 5, 4, 3, 2, 3, 3, 2, 6, 1, 2, 3, 6, 3, 6, 2, 2, 2, 2, 2, 3, 2, 4, 6, 5, 4, 4, 5, 2, 4, 6, 6, 6, 1, 6, 1, 5, 4, 2, 6, 2, 3, 3, 5, 2, 3, 6, 4, 4, 2, 5, 4, 4, 2, 4, 6, 2, 3, 6, 3, 3, 1, 2, 4, 1, 3, 4, 1, 2, 5, 6, 5, 1, 4, 1, 5, 2, 4, 1, 6, 2, 6, 1, 2, 3, 4, 1, 2, 3, 4, 5, 6, 4, 4, 4, 2, 4, 1, 2, 6, 1, 3, 2, 2, 4, 5, 3, 6, 5, 6, 4, 4, 1, 2, 6, 6, 3, 1, 2, 4, 1, 6, 4, 1, 1, 2, 3, 4, 2, 6, 3, 2, 6, 3, 3, 1, 2, 4, 5, 1, 2, 4, 6, 1, 5, 2, 3, 1, 2, 3, 4, 5, 6, 4, 5, 4, 4, 1, 3, 1, 2, 5, 6, 1, 3, 5, 1, 2, 3, 3, 1, 2, 3, 4, 5, 6, 3, 1, 2, 3, 5, 5, 3, 3, 4, 5, 1, 2, 3, 4, 2, 2, 3, 4, 2, 1, 2, 3, 1, 5, 2, 4, 1, 2, 3, 1, 2, 1, 1, 3, 4, 2, 3, 5, 6, 2, 2, 4, 5, 4, 5, 1, 4, 6, 1, 6, 4, 1, 1, 2, 4, 5, 1, 3, 6, 1, 2, 4, 6, 4, 3, 2, 3, 1, 1, 2, 4, 3, 1, 2, 3, 3, 3, 2, 4, 3, 4, 2, 2, 3, 3, 2, 3, 4, 2, 3, 2, 1, 2, 3, 1, 4, 5, 6, 5, 3, 4, 6, 5, 5, 1, 1, 5, 1, 6, 1, 4, 1, 4, 1, 2, 3, 6, 3, 4, 4, 6, 6, 5, 6, 2, 1, 1, 5, 1, 4, 6, 2, 3, 3, 1, 2, 3, 4, 6, 1, 3, 4, 5, 3, 6, 1, 3, 6, 3, 2, 1, 3, 2, 1, 2, 3, 4, 5, 3, 2, 3, 1, 3, 5, 1, 2, 3, 1, 4, 5, 1, 2, 3, 4, 5, 1, 6, 1, 2, 3, 4, 5, 6, 4, 3, 4, 1, 2, 6, 1, 1, 2, 4, 2, 6, 3, 5, 1, 4, 5, 1, 3, 5, 6, 5, 1, 1, 2, 4, 1, 1, 1, 2, 3, 4, 5, 6, 1, 2, 3, 4, 5, 1, 2, 3, 5, 6, 2, 1, 4, 5, 1, 2, 3, 4, 1, 2, 3, 5, 1, 2, 4, 5, 1, 6], \"Freq\": [0.41499234271322794, 0.03319938741705823, 0.5498648540950271, 0.2104882124800698, 0.3562108211201181, 0.4317706922668098, 0.4452041339131527, 0.5532122374068761, 0.9964357699264994, 0.995508354940944, 0.9771562201180948, 0.34925705831667975, 0.22661717524364716, 0.4239074219263518, 0.16611865553291782, 0.2731729002096871, 0.5611119031334113, 0.9978401028487538, 0.9647621577231864, 0.9905455698091142, 0.13986544472017187, 0.8597611160739977, 0.9804832186706703, 0.9962934212654432, 0.986025197545028, 0.9986423241396813, 0.3119174359426641, 0.6883695138045001, 0.9982753697419685, 0.9870489426390742, 0.5010925470760411, 0.09586118291889482, 0.4023264798262707, 0.1417230580092193, 0.5458962234429188, 0.3096911267608866, 0.9944018117306497, 0.9925188696012321, 0.20721812825057934, 0.7838250938174087, 0.9509031848694193, 0.9797528932293252, 0.9783326190576896, 0.9801342426354422, 0.9806140893591488, 0.9908712047214686, 0.47810053349137815, 0.3662271194735281, 0.056992116575131174, 0.09815308965717036, 0.8456897586937513, 0.15333287117180985, 0.9644664875675533, 0.5378520887244542, 0.4604768759605854, 0.22579989116870774, 0.21450989661027237, 0.4564383514338878, 0.10322280739140925, 0.9817348716642372, 0.9444871060891745, 0.04970984768890392, 0.9656993198416245, 0.9817862187461242, 0.22227160513329447, 0.14757377062128568, 0.4463651086693209, 0.18218984027319218, 0.9851926700374121, 0.9821032510212602, 0.9809496634722852, 0.9968934439437681, 0.16827613835531693, 0.12217308675112051, 0.3849604808950401, 0.07607003514692409, 0.24895647866266066, 0.9904847736473734, 0.8769531708144268, 0.1207234235147133, 0.9946189711717394, 0.9880433723298102, 0.9758999786728204, 0.2745199996444147, 0.7154157566490807, 0.9748560942426624, 0.9807839082833646, 0.9510201834396883, 0.04806600205110338, 0.21514746756789324, 0.24436502489192813, 0.3652194665504361, 0.11288601693377115, 0.06241932701043816, 0.05299987603564536, 0.5326487541582359, 0.2808993429889204, 0.03974990702673402, 0.09274978306237938, 0.9837326866906816, 0.9794789838382314, 0.9896668893774475, 0.3349266892931877, 0.6517492332191761, 0.08004610275694668, 0.9125255714291921, 0.9847609666963988, 0.13535670827279464, 0.8628990152390659, 0.547010383716433, 0.37734940908780673, 0.07605491966110833, 0.2552299549287001, 0.34395274878486726, 0.18716863361438008, 0.008507665164290003, 0.13733802336639578, 0.06684594057656432, 0.9819770901105022, 0.3940544298566088, 0.10508118129509568, 0.4991356111517045, 0.9805903682163764, 0.9841504328170213, 0.11899124132492711, 0.8807685019639213, 0.9686786508535303, 0.9861009213156794, 0.9728469216377508, 0.20370198473007387, 0.6901544855780114, 0.10489132049533653, 0.9786416700671637, 0.8482532079693834, 0.14969174258283238, 0.9926746457943898, 0.993260831907274, 0.9945534207152635, 0.9947302168049655, 0.9479756669071565, 0.049459600012547296, 0.5533375810394582, 0.17669603428150765, 0.2696939470612485, 0.9895588693918324, 0.9849571053577738, 0.9909577415222635, 0.9726170818553025, 0.9863950853765978, 0.2685309757343864, 0.7207936717080898, 0.959818168231808, 0.9891720123580081, 0.3167516690402358, 0.6766967474950492, 0.997380803747039, 0.9820756167243346, 0.9757174115357536, 0.29112362199438735, 0.7008531640605621, 0.2595122912893012, 0.7396982996613416, 0.9701004090965619, 0.9777740776120973, 0.2721179721468729, 0.7256479257249945, 0.9731275812149015, 0.9766530262482075, 0.9947100564045848, 0.9777601495120054, 0.9574016581698476, 0.9779342389421463, 0.9780071331743352, 0.24766986997509857, 0.10280636112173903, 0.6483810275291495, 0.14239543756660422, 0.8468781286855935, 0.9768590296608307, 0.9800116768933141, 0.9872215608903926, 0.3280678758430728, 0.21645715519542946, 0.45320716869043043, 0.5495998273727586, 0.06238700743150233, 0.38620528409977634, 0.38329833199513236, 0.15366857956980248, 0.4086187229469748, 0.05413324962118042, 0.9853726479075351, 0.9943831563619758, 0.973420299655338, 0.19292092749862505, 0.8018276049161603, 0.23955181384942406, 0.7597214667796021, 0.9889802813933695, 0.9569694710720537, 0.9834346116907754, 0.9626461353906784, 0.3493494237899519, 0.19011108178336916, 0.2924785873590295, 0.1673627472110002, 0.2921690990430505, 0.3964023992421928, 0.12002622447173965, 0.08844037592654501, 0.031585848545194646, 0.07106815922668795, 0.985422330292344, 0.9937155328666519, 0.9698081991814159, 0.8406583447553655, 0.156505542906584, 0.30412781902674074, 0.26169137916254437, 0.4314371386193299, 0.13293728018833234, 0.8658414959634804, 0.9874663029504391, 0.7277852483691368, 0.2668545910686835, 0.9695972293474261, 0.9823796471291549, 0.964745366056244, 0.9765448006214948, 0.9979191786468052, 0.9836005478065527, 0.9765491461097636, 0.15613842384191076, 0.8401734235302817, 0.9827635907344568, 0.9895444584106636, 0.9841563044883834, 0.10550804712547951, 0.6563422671831777, 0.23773566462689213, 0.9930726080264812, 0.9851531247447199, 0.9536170924224511, 0.9926077211071647, 0.26578548412382547, 0.4289227812756908, 0.23095842068691042, 0.07515313689018513, 0.998699507878173, 0.9747830218608743, 0.9914092543845906, 0.9902420201071569, 0.9761038612375024, 0.983068237740707, 0.9874357252659111, 0.44204092013946544, 0.23207148307321934, 0.046045929181194316, 0.27811741225441367, 0.36693699449864203, 0.14677479779945682, 0.09784986519963787, 0.3852838442235741, 0.991892461383377, 0.9776777587191087, 0.2691219974446827, 0.7304739930641387, 0.5046759756388063, 0.23579818693712296, 0.055980864524640704, 0.07718573745064096, 0.11026533921520137, 0.016115703423760203, 0.6736641268213727, 0.32362296288477704, 0.9767641241761348, 0.985958937718117, 0.9947180964012213, 0.9967477934627185, 0.3313285087954077, 0.2530981664409364, 0.3359302936397884, 0.07362855751009059, 0.36001550484241457, 0.06461816753581799, 0.5723323410315309, 0.4531207683254994, 0.3671476209915789, 0.17969797188647335, 0.9902552888714629, 0.3633270360683487, 0.38456043428013537, 0.05190386229547839, 0.023592664679762905, 0.1439152545465537, 0.03185009731767992, 0.9973685154848131, 0.629738575462931, 0.04971620332602087, 0.1941299367968434, 0.1254742274418622, 0.9945567539362421, 0.9905791506803532, 0.1996226426789543, 0.7842318105244633, 0.9817862187461242, 0.051896690269379486, 0.21435589459091525, 0.731066419446911, 0.9884088239787244, 0.9829189213822854, 0.4766834756211313, 0.12160292745437022, 0.4012896605994217, 0.982254063601352, 0.12622270577520586, 0.7573362346512352, 0.11598843233397295, 0.28448144415666976, 0.715296868580979, 0.9894111628480182, 0.9617176268137445, 0.4245681087870907, 0.42839304670409156, 0.146622620151698, 0.8482195752906768, 0.1503815581690642, 0.9964619593034939, 0.7716743275455348, 0.20321672682693798, 0.024715547857330294, 0.13811474440189297, 0.858713410846552, 0.21451706614686933, 0.7776243647824013, 0.9982386252837911, 0.507182711443554, 0.24902214210516838, 0.23988371487195118, 0.8649846331185267, 0.12686441285738392, 0.8056334985322255, 0.07323940895747505, 0.12078077968425709, 0.9958121595038871, 0.9750717719390617, 0.9730056748867645, 0.9835624421324067, 0.08758693264992803, 0.11167333912865825, 0.7612764229489578, 0.039414119692467615, 0.20360478781095262, 0.4997572064450655, 0.2961524186341129, 0.1878011503238176, 0.3581774516485181, 0.3736662063144, 0.07937986766264456, 0.9487376484628706, 0.9964611762917668, 0.9062728831799078, 0.09204333969795939, 0.9770854976679475, 0.12446215811156054, 0.7467729486693633, 0.12901565170100787, 0.9982736642485123, 0.15199775976725285, 0.5158221847420602, 0.33148447608815784, 0.9920165619824459, 0.985750320687563, 0.9871717675182717, 0.9924243040397689, 0.9751108699914157, 0.9844891495751831, 0.9926417861940984, 0.09727653991857382, 0.8983774568950642, 0.9968748525008102, 0.26215813557955664, 0.12171627723336557, 0.6085813861668279, 0.8427200586419854, 0.152898576040529, 0.987862680592184, 0.14930493551801297, 0.12131026010838553, 0.7247510411603546, 0.26464419436167136, 0.40812598648546905, 0.1658011820097218, 0.16101845560559522, 0.9714386143558145, 0.37085119397916017, 0.1305814063306902, 0.49098608780339514, 0.9511329328039831, 0.9977649484388493, 0.9787638909166356, 0.9962174183497545, 0.9784498012152864, 0.25233576841430794, 0.7412363197170296, 0.7476236032471613, 0.25204756447389565, 0.7888308385289899, 0.21016296062998638, 0.16126378522724572, 0.5224946641362761, 0.3160770190454016, 0.9729361441165889, 0.9993860229359397, 0.9600411548566994, 0.24406068718042195, 0.7502606309620379, 0.9712608559111331, 0.28210602711964694, 0.7165493088839031, 0.982578857459765, 0.982494239964469, 0.18025547510740278, 0.8187875818437957, 0.38614299041406985, 0.6124539005468581, 0.9705350448505977, 0.9911460803369955, 0.9893802681379674, 0.9867567525836023, 0.37090633782479987, 0.1512156608054953, 0.20257192296585222, 0.11127190134743996, 0.16548128918337224, 0.2941884389446174, 0.11032066460423152, 0.4504760471339454, 0.1440297565666356, 0.2781458090645238, 0.7135044667307349, 0.9962885090415596, 0.9926578088898422, 0.9881868565638864, 0.9981249029376932, 0.9695071458226, 0.7301175287577159, 0.26913091388514343, 0.9968932609679246, 0.37580710931492567, 0.32674612898660643, 0.17956318800164855, 0.045136101902053735, 0.07359147049247892, 0.9786219525951253, 0.8421916801328733, 0.15853019861324674, 0.08355535078499178, 0.5523937079674456, 0.3574312228024648, 0.10857093585824151, 0.22285613149849573, 0.6657112646044808, 0.806377097474095, 0.10527116155014296, 0.08790141989436936, 0.45413404386156386, 0.11000762553168317, 0.0648762919802234, 0.2745489457713802, 0.09590408379685199, 0.9893667723933592, 0.9738738416794033, 0.28418222550283256, 0.21043251300209748, 0.20994084825209255, 0.13520780625134768, 0.05162479875051457, 0.10865790975108304, 0.9852951944730475, 0.9611872731551168, 0.0417907510067442, 0.5987427391745985, 0.07305614324146295, 0.32875264458658326, 0.9857270200851402, 0.9960824743482326, 0.9959881438496812, 0.9751122799677651, 0.16854446258089736, 0.8186445325357873, 0.5136213051063193, 0.48280402679994017, 0.6638049625897979, 0.07880366175996205, 0.25680722714717047, 0.6372960525032738, 0.21525691135083982, 0.14745945895687454, 0.9675742479401457, 0.9726428782722653, 0.9804615279511787, 0.9926682574922079, 0.24024405874499444, 0.7527647174009826, 0.9827383770258713, 0.9827700862642278, 0.6743729087794452, 0.07602347114887645, 0.09838331560442834, 0.060818776919101154, 0.09033377160042966, 0.9560355402578545, 0.25090324503107725, 0.10527408882422823, 0.008772840735352352, 0.022809385911916114, 0.6123442833275942, 0.13060523494068463, 0.7167360454061962, 0.14971819615151652, 0.9801966783648008, 0.9703829273334177, 0.978469521559154, 0.46063515122166665, 0.4051369402311044, 0.13398853796292887, 0.43917944491824545, 0.38756647596417815, 0.13325530166322833, 0.03941353992856049, 0.026465835471228952, 0.17864438943079541, 0.7780955628541312, 0.017202793056298817, 0.7680894649974163, 0.12045394868594919, 0.029722402922506944, 0.08290986078383517, 0.9936030540541811, 0.9810283556895165], \"Term\": [\"account\", \"account\", \"account\", \"act\", \"act\", \"act\", \"ad\", \"ad\", \"address\", \"advance\", \"advantage\", \"advertise\", \"advertise\", \"advertise\", \"advertisement\", \"advertisement\", \"advertisement\", \"advertising\", \"age\", \"animal\", \"answer\", \"answer\", \"apartment\", \"app\", \"apple\", \"approve\", \"assessment\", \"assessment\", \"bank\", \"bargain\", \"become\", \"become\", \"become\", \"bid\", \"bid\", \"bid\", \"bike\", \"bill\", \"bind\", \"bind\", \"bite\", \"blue\", \"bound\", \"bring\", \"browser\", \"bump\", \"buy\", \"buy\", \"buy\", \"buy\", \"buyer\", \"buyer\", \"byte\", \"call\", \"call\", \"can\", \"can\", \"can\", \"can\", \"cannon\", \"car\", \"car\", \"caravan\", \"carburetor\", \"case\", \"case\", \"case\", \"case\", \"cash\", \"cause\", \"center\", \"chair\", \"change\", \"change\", \"change\", \"change\", \"change\", \"chat\", \"cheat\", \"cheat\", \"child\", \"choice\", \"clear\", \"click\", \"click\", \"clothe\", \"collection\", \"com\", \"com\", \"come\", \"come\", \"come\", \"come\", \"come\", \"company\", \"company\", \"company\", \"company\", \"company\", \"compensation\", \"compete\", \"competition\", \"concept\", \"concept\", \"condition\", \"condition\", \"confidence\", \"contact\", \"contact\", \"cost\", \"cost\", \"cost\", \"could\", \"could\", \"could\", \"could\", \"could\", \"could\", \"couple\", \"create\", \"create\", \"create\", \"creation\", \"credit\", \"customer\", \"customer\", \"cut\", \"damage\", \"danish\", \"day\", \"day\", \"day\", \"decline\", \"delete\", \"delete\", \"deliver\", \"delivery\", \"deny\", \"department\", \"describe\", \"describe\", \"description\", \"description\", \"description\", \"design\", \"desire\", \"determine\", \"development\", \"disaster\", \"dk\", \"dk\", \"dog\", \"earth\", \"easy\", \"easy\", \"ebay\", \"edit\", \"edition\", \"effect\", \"effect\", \"email\", \"email\", \"encounter\", \"entrepreneur\", \"error\", \"error\", \"esbjerg\", \"estimate\", \"etse\", \"evening\", \"examine\", \"exchange\", \"expectation\", \"experience\", \"experience\", \"experience\", \"explain\", \"explain\", \"extend\", \"fall\", \"fast\", \"fee\", \"fee\", \"fee\", \"feel\", \"feel\", \"feel\", \"find\", \"find\", \"find\", \"find\", \"forum\", \"free\", \"freedom\", \"function\", \"function\", \"furniture\", \"furniture\", \"gadget\", \"garden\", \"germany\", \"girl\", \"give\", \"give\", \"give\", \"give\", \"go\", \"go\", \"go\", \"go\", \"go\", \"go\", \"gold\", \"group\", \"half\", \"hammer\", \"hammer\", \"have\", \"have\", \"have\", \"help\", \"help\", \"herlev\", \"house\", \"house\", \"housing\", \"idiot\", \"indicate\", \"individual\", \"inquiry\", \"interface\", \"invite\", \"invoice\", \"invoice\", \"ipad\", \"iphone\", \"issue\", \"item\", \"item\", \"item\", \"judgment\", \"jump\", \"kab\", \"klarna\", \"know\", \"know\", \"know\", \"know\", \"kr\", \"kroner\", \"label\", \"lamp\", \"leg\", \"log\", \"login\", \"look\", \"look\", \"look\", \"look\", \"lose\", \"lose\", \"lose\", \"lose\", \"love\", \"lower\", \"mail\", \"mail\", \"make\", \"make\", \"make\", \"make\", \"make\", \"make\", \"market\", \"market\", \"match\", \"meeting\", \"member\", \"message\", \"miss\", \"miss\", \"miss\", \"miss\", \"mobile\", \"mobile\", \"mobile\", \"money\", \"money\", \"money\", \"monopoly\", \"must\", \"must\", \"must\", \"must\", \"must\", \"must\", \"name\", \"need\", \"need\", \"need\", \"need\", \"newspaper\", \"nice\", \"none\", \"none\", \"nozzles\", \"number\", \"number\", \"number\", \"occasion\", \"odense\", \"offer\", \"offer\", \"offer\", \"office\", \"package\", \"package\", \"package\", \"page\", \"page\", \"painting\", \"passport\", \"pay\", \"pay\", \"pay\", \"payment\", \"payment\", \"paypal\", \"people\", \"people\", \"people\", \"phone\", \"phone\", \"photo\", \"photo\", \"pick\", \"picture\", \"picture\", \"picture\", \"piece\", \"piece\", \"place\", \"place\", \"place\", \"platform\", \"pleasure\", \"position\", \"praise\", \"price\", \"price\", \"price\", \"price\", \"problem\", \"problem\", \"problem\", \"product\", \"product\", \"product\", \"product\", \"professional\", \"profile\", \"promise\", \"promise\", \"protection\", \"purchase\", \"purchase\", \"purchase\", \"question\", \"receive\", \"receive\", \"receive\", \"refund\", \"register\", \"regret\", \"relation\", \"renew\", \"rent\", \"request\", \"respond\", \"respond\", \"response\", \"result\", \"result\", \"result\", \"return\", \"return\", \"right\", \"rule\", \"rule\", \"rule\", \"sale\", \"sale\", \"sale\", \"sale\", \"satisfy\", \"scammer\", \"scammer\", \"scammer\", \"scroll\", \"search\", \"seat\", \"security\", \"seek\", \"selection\", \"selection\", \"sell\", \"sell\", \"seller\", \"seller\", \"send\", \"send\", \"send\", \"series\", \"service\", \"session\", \"set\", \"set\", \"setting\", \"settle\", \"settle\", \"shipment\", \"shit\", \"side\", \"side\", \"site\", \"site\", \"smooth\", \"sofa\", \"solve\", \"spam\", \"star\", \"star\", \"star\", \"star\", \"star\", \"start\", \"start\", \"start\", \"start\", \"steal\", \"steal\", \"stuff\", \"super\", \"supply\", \"support\", \"sword\", \"system\", \"system\", \"table\", \"take\", \"take\", \"take\", \"take\", \"take\", \"telephone\", \"tell\", \"tell\", \"text\", \"text\", \"text\", \"thank\", \"thank\", \"thank\", \"thing\", \"thing\", \"thing\", \"think\", \"think\", \"think\", \"think\", \"think\", \"throw\", \"thumb\", \"time\", \"time\", \"time\", \"time\", \"time\", \"time\", \"tip\", \"touch\", \"touch\", \"trade\", \"trade\", \"trade\", \"trader\", \"trading\", \"transport\", \"travel\", \"trouble\", \"trouble\", \"update\", \"update\", \"use\", \"use\", \"use\", \"user\", \"user\", \"user\", \"useriase\", \"utilize\", \"validate\", \"validation\", \"value\", \"value\", \"video\", \"violate\", \"want\", \"want\", \"want\", \"want\", \"want\", \"weapon\", \"website\", \"website\", \"website\", \"website\", \"website\", \"week\", \"week\", \"week\", \"wellfunctione\", \"window\", \"withdrawal\", \"work\", \"work\", \"work\", \"would\", \"would\", \"would\", \"would\", \"write\", \"write\", \"write\", \"write\", \"year\", \"year\", \"year\", \"year\", \"yellow\", \"yellowgratis\"]}, \"R\": 30, \"lambda.step\": 0.01, \"plot.opts\": {\"xlab\": \"PC1\", \"ylab\": \"PC2\"}, \"topic.order\": [2, 1, 4, 5, 3, 6]};\n",
       "\n",
       "function LDAvis_load_lib(url, callback){\n",
       "  var s = document.createElement('script');\n",
       "  s.src = url;\n",
       "  s.async = true;\n",
       "  s.onreadystatechange = s.onload = callback;\n",
       "  s.onerror = function(){console.warn(\"failed to load library \" + url);};\n",
       "  document.getElementsByTagName(\"head\")[0].appendChild(s);\n",
       "}\n",
       "\n",
       "if(typeof(LDAvis) !== \"undefined\"){\n",
       "   // already loaded: just create the visualization\n",
       "   !function(LDAvis){\n",
       "       new LDAvis(\"#\" + \"ldavis_el1466052922497124300272552\", ldavis_el1466052922497124300272552_data);\n",
       "   }(LDAvis);\n",
       "}else if(typeof define === \"function\" && define.amd){\n",
       "   // require.js is available: use it to load d3/LDAvis\n",
       "   require.config({paths: {d3: \"https://cdnjs.cloudflare.com/ajax/libs/d3/3.5.5/d3.min\"}});\n",
       "   require([\"d3\"], function(d3){\n",
       "      window.d3 = d3;\n",
       "      LDAvis_load_lib(\"https://cdn.rawgit.com/bmabey/pyLDAvis/files/ldavis.v1.0.0.js\", function(){\n",
       "        new LDAvis(\"#\" + \"ldavis_el1466052922497124300272552\", ldavis_el1466052922497124300272552_data);\n",
       "      });\n",
       "    });\n",
       "}else{\n",
       "    // require.js not available: dynamically load d3 & LDAvis\n",
       "    LDAvis_load_lib(\"https://cdnjs.cloudflare.com/ajax/libs/d3/3.5.5/d3.min.js\", function(){\n",
       "         LDAvis_load_lib(\"https://cdn.rawgit.com/bmabey/pyLDAvis/files/ldavis.v1.0.0.js\", function(){\n",
       "                 new LDAvis(\"#\" + \"ldavis_el1466052922497124300272552\", ldavis_el1466052922497124300272552_data);\n",
       "            })\n",
       "         });\n",
       "}\n",
       "</script>"
      ],
      "text/plain": [
       "PreparedData(topic_coordinates=              x         y  topics  cluster       Freq\n",
       "topic                                                \n",
       "1     -0.008504  0.133811       1        1  28.522132\n",
       "0     -0.167818 -0.029297       2        1  22.420382\n",
       "3     -0.257627 -0.043996       3        1  20.958112\n",
       "4      0.068831  0.043594       4        1  11.976927\n",
       "2      0.184486  0.179656       5        1   9.134852\n",
       "5      0.180632 -0.283768       6        1   6.987595, topic_info=            Term         Freq        Total Category  logprob  loglift\n",
       "124         sell  3404.000000  3404.000000  Default  30.0000  30.0000\n",
       "125      service  1958.000000  1958.000000  Default  29.0000  29.0000\n",
       "79      customer  1714.000000  1714.000000  Default  28.0000  28.0000\n",
       "48         price  1370.000000  1370.000000  Default  27.0000  27.0000\n",
       "591         page   977.000000   977.000000  Default  26.0000  26.0000\n",
       "..           ...          ...          ...      ...      ...      ...\n",
       "394          bid    59.173623   190.512401   Topic6  -5.2368   1.4918\n",
       "306  description    57.877743   215.058590   Topic6  -5.2590   1.3485\n",
       "201         star    57.581166   350.492798   Topic6  -5.2641   0.8549\n",
       "88          find    61.722715  1145.321968   Topic6  -5.1947  -0.2598\n",
       "153        could    55.326826   822.787435   Topic6  -5.3041  -0.0384\n",
       "\n",
       "[390 rows x 6 columns], token_table=      Topic      Freq          Term\n",
       "term                               \n",
       "767       1  0.414992       account\n",
       "767       2  0.033199       account\n",
       "767       3  0.549865       account\n",
       "202       1  0.210488           act\n",
       "202       2  0.356211           act\n",
       "...     ...       ...           ...\n",
       "593       2  0.120454          year\n",
       "593       4  0.029722          year\n",
       "593       5  0.082910          year\n",
       "1362      1  0.993603        yellow\n",
       "4010      6  0.981028  yellowgratis\n",
       "\n",
       "[541 rows x 3 columns], R=30, lambda_step=0.01, plot_opts={'xlab': 'PC1', 'ylab': 'PC2'}, topic_order=[2, 1, 4, 5, 3, 6])"
      ]
     },
     "execution_count": 50,
     "metadata": {},
     "output_type": "execute_result"
    }
   ],
   "source": [
    "show_model(df)"
   ]
  },
  {
   "cell_type": "code",
   "execution_count": null,
   "metadata": {},
   "outputs": [],
   "source": []
  }
 ],
 "metadata": {
  "kernelspec": {
   "display_name": "Python 3",
   "language": "python",
   "name": "python3"
  },
  "language_info": {
   "codemirror_mode": {
    "name": "ipython",
    "version": 3
   },
   "file_extension": ".py",
   "mimetype": "text/x-python",
   "name": "python",
   "nbconvert_exporter": "python",
   "pygments_lexer": "ipython3",
   "version": "3.9.0"
  }
 },
 "nbformat": 4,
 "nbformat_minor": 4
}
