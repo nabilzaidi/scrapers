{
 "cells": [
  {
   "cell_type": "code",
   "execution_count": 3,
   "metadata": {},
   "outputs": [],
   "source": [
    "#from bs4 import BeautifulSoup as bs\n",
    "from lxml import html\n",
    "import requests\n",
    "import json\n",
    "import pandas as pd\n",
    "from unidecode import unidecode"
   ]
  },
  {
   "cell_type": "code",
   "execution_count": 4,
   "metadata": {},
   "outputs": [],
   "source": [
    "def clean_xpath_res(l):\n",
    "    return unidecode(\"\\n\".join(l).strip())\n",
    "\n",
    "class TrustPilotScraper:\n",
    "    def __init__(self, url):\n",
    "        self.url = url\n",
    "    \n",
    "    def _parse_review(self, review_block):\n",
    "        info = dict()\n",
    "        xpath_rating = \".//div[@class='star-rating star-rating--medium']/img/@alt\"\n",
    "        info[\"rating_star\"] = clean_xpath_res(review_block.xpath(xpath_rating))\n",
    "        xpath_date = \".//div[@class='review-content-header__dates']/script/text()\"\n",
    "        info[\"date\"] = json.loads(review_block.xpath(xpath_date)[0])[\"publishedDate\"]\n",
    "        xpath_title = \".//h2[@class='review-content__title']//text()\"\n",
    "        info[\"title\"] = clean_xpath_res(review_block.xpath(xpath_title))\n",
    "        xpath_review = \".//p[@class='review-content__text']//text()\"\n",
    "        info[\"review\"] = clean_xpath_res(review_block.xpath(xpath_review))\n",
    "        xpath_n_reviews = \".//div[@class='consumer-information__review-count']//text()\"\n",
    "        info[\"n_reviews_customer\"] = clean_xpath_res(review_block.xpath(xpath_n_reviews))\n",
    "        return info\n",
    "    \n",
    "    def _parse_page(self, page):\n",
    "        info = list()\n",
    "        reviews = page.xpath(\"//div[@class='review-card  ']\")\n",
    "        for r in reviews:\n",
    "            info.append(self._parse_review(r))\n",
    "        return info\n",
    "    \n",
    "    def _url_page(self, n_page):\n",
    "        return f\"{self.url}?page={n_page}\"\n",
    "    \n",
    "    def _get_html(self, url):\n",
    "        page_content = requests.get(url).content\n",
    "        page_html = html.fromstring(page_content)\n",
    "        return page_html\n",
    "    \n",
    "    def get_number_reviews(self):\n",
    "        page_html = self._get_html(self.url)\n",
    "        xpath_n_reviews = xpath_n_reviews = \"//span[@class='headline__review-count']//text()\"\n",
    "        n_reviews_str = clean_xpath_res(page_html.xpath(xpath_n_reviews))\n",
    "        n_reviews = int(n_reviews_str.replace(\" \", \"\"))\n",
    "        return n_reviews\n",
    "    \n",
    "    def scrap_reviews(self):\n",
    "        info = []\n",
    "        n_reviews = self.get_number_reviews()\n",
    "        n_pages = n_reviews // 20 + 1 # 20 reviews per page\n",
    "        # Not optimised, it's the max # of pages, but often less\n",
    "        for n in range(1, n_pages):\n",
    "            url = self._url_page(n)\n",
    "            page_html = self._get_html(url)\n",
    "            page_info = self._parse_page(page_html)\n",
    "            for i in page_info:\n",
    "                i[\"page\"] = n\n",
    "            info += page_info\n",
    "            print(f\"Done with {url}\")\n",
    "        return info\n",
    "    \n",
    "    \n",
    "def scrap_reviews(url, filename_save=\"\"):\n",
    "    tps = TrustPilotScraper(url)\n",
    "    info = tps.scrap_reviews()\n",
    "    df = pd.DataFrame(info)\n",
    "    df = df.drop_duplicates([\"rating_star\", \"date\", \"title\", \"review\"])\n",
    "    if filename_save:\n",
    "        df.to_csv(filename_save, encoding=\"utf-8\")\n",
    "    return df"
   ]
  },
  {
   "cell_type": "code",
   "execution_count": 8,
   "metadata": {},
   "outputs": [],
   "source": [
    "url = \"https://fr.trustpilot.com/review/www.aroma-zone.com\"\n",
    "filename = \"intermediary_outputs/aromazone_trustpilot_v3.csv\"\n",
    "df = scrap_reviews(url, filename)"
   ]
  },
  {
   "cell_type": "code",
   "execution_count": null,
   "metadata": {},
   "outputs": [],
   "source": []
  }
 ],
 "metadata": {
  "kernelspec": {
   "display_name": "Python 3",
   "language": "python",
   "name": "python3"
  },
  "language_info": {
   "codemirror_mode": {
    "name": "ipython",
    "version": 3
   },
   "file_extension": ".py",
   "mimetype": "text/x-python",
   "name": "python",
   "nbconvert_exporter": "python",
   "pygments_lexer": "ipython3",
   "version": "3.7.5"
  }
 },
 "nbformat": 4,
 "nbformat_minor": 4
}
